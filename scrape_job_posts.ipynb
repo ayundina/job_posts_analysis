{
  "nbformat": 4,
  "nbformat_minor": 0,
  "metadata": {
    "colab": {
      "provenance": [],
      "authorship_tag": "ABX9TyMPriOlqBsIds0rqCbhUvMc",
      "include_colab_link": true
    },
    "kernelspec": {
      "name": "python3",
      "display_name": "Python 3"
    },
    "language_info": {
      "name": "python"
    }
  },
  "cells": [
    {
      "cell_type": "markdown",
      "metadata": {
        "id": "view-in-github",
        "colab_type": "text"
      },
      "source": [
        "<a href=\"https://colab.research.google.com/github/ayundina/job_posts_analysis/blob/main/scrape_job_posts.ipynb\" target=\"_parent\"><img src=\"https://colab.research.google.com/assets/colab-badge.svg\" alt=\"Open In Colab\"/></a>"
      ]
    },
    {
      "cell_type": "markdown",
      "source": [
        "#**Scrape google job search for job posts**\n",
        "Call serpapi APIs to get google search results"
      ],
      "metadata": {
        "id": "io0kKNJnVBG1"
      }
    },
    {
      "cell_type": "code",
      "execution_count": null,
      "metadata": {
        "id": "zS-cuMufT1hH"
      },
      "outputs": [],
      "source": [
        "%%capture\n",
        "!pip install google-search-results"
      ]
    },
    {
      "cell_type": "code",
      "source": [
        "from serpapi import GoogleSearch\n",
        "from pprint import pprint\n",
        "\n",
        "GoogleSearch.SERP_API_KEY = \"\"\n",
        "\n",
        "def get_search_results(params: dict) -> dict:\n",
        "  client = GoogleSearch(params)\n",
        "  response = client.get_dict()\n",
        "  return response"
      ],
      "metadata": {
        "id": "EHJcWoAYVKNN"
      },
      "execution_count": null,
      "outputs": []
    },
    {
      "cell_type": "markdown",
      "source": [
        "Make a dictionary with parameters"
      ],
      "metadata": {
        "id": "3IdhUxKC7MZg"
      }
    },
    {
      "cell_type": "code",
      "source": [
        "def get_params(query: str, page: int, eng: str, loc: str, lang: str) -> dict:\n",
        "  params = {\n",
        "      \"query\": query,\n",
        "      \"start\": page,\n",
        "      \"engine\": eng,\n",
        "      \"location\": loc,\n",
        "      \"hl\": lang\n",
        "  }\n",
        "  return params"
      ],
      "metadata": {
        "id": "7CzpSEc7aXU9"
      },
      "execution_count": null,
      "outputs": []
    },
    {
      "cell_type": "markdown",
      "source": [
        "There is a list of titles that are related to a job position and list of pages to scrape results. This function iterates over given titles while taking search results from all of the provided pages"
      ],
      "metadata": {
        "id": "sYsVK7X67qIo"
      }
    },
    {
      "cell_type": "code",
      "source": [
        "def scrape_google_jobs(titles: list, pages: list) -> dict:\n",
        "  data = []\n",
        "\n",
        "  for job_title in titles:\n",
        "    for page in pages:\n",
        "      params = get_params(job_title, page, \"google_jobs\", \"en\", \"Netherlands\")\n",
        "      jobs = get_search_results(params)\n",
        "      data = [*data, *jobs]\n",
        "  return data"
      ],
      "metadata": {
        "id": "P2wp86sjbusL"
      },
      "execution_count": null,
      "outputs": []
    },
    {
      "cell_type": "code",
      "source": [
        "import pandas as pd\n",
        "\n",
        "def save_to_file(data: dict, path: str) -> None:\n",
        "  jobs_df = pd.DataFrame.from_dict(jobs)\n",
        "  jobs_df.to_json(f\"{path}\", index=False)"
      ],
      "metadata": {
        "id": "Efmj_kBB9ThT"
      },
      "execution_count": null,
      "outputs": []
    },
    {
      "cell_type": "code",
      "source": [
        "from pprint import pprint\n",
        "\n",
        "job_titles = [\"data science\", \"machine learning\", \"artificial intelligence\"]\n",
        "pages = [0, 10, 20, 30, 40, 50]\n",
        "\n",
        "jobs = scrape_google_jobs(job_titles, pages)\n",
        "pprint(jobs[0:3])"
      ],
      "metadata": {
        "id": "FOTDKcC01Wya"
      },
      "execution_count": null,
      "outputs": []
    },
    {
      "cell_type": "code",
      "source": [
        "folder = \"/content/drive/MyDrive/data_science_jobs\"\n",
        "file_name = \"/01.json\"\n",
        "\n",
        "save_to_file(jobs, f\"{folder}{file_name}\")"
      ],
      "metadata": {
        "id": "-CS8xVZn_TE6"
      },
      "execution_count": null,
      "outputs": []
    }
  ]
}