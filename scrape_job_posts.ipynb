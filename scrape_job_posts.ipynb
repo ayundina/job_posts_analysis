{
  "nbformat": 4,
  "nbformat_minor": 0,
  "metadata": {
    "colab": {
      "provenance": [],
      "mount_file_id": "1FjDSJunBZDpHIIkAryn_hcYBoZOCpOIs",
      "authorship_tag": "ABX9TyMbiX1d96Gmtnw29ixfgsPP",
      "include_colab_link": true
    },
    "kernelspec": {
      "name": "python3",
      "display_name": "Python 3"
    },
    "language_info": {
      "name": "python"
    }
  },
  "cells": [
    {
      "cell_type": "markdown",
      "metadata": {
        "id": "view-in-github",
        "colab_type": "text"
      },
      "source": [
        "<a href=\"https://colab.research.google.com/github/ayundina/job_posts_analysis/blob/main/scrape_job_posts.ipynb\" target=\"_parent\"><img src=\"https://colab.research.google.com/assets/colab-badge.svg\" alt=\"Open In Colab\"/></a>"
      ]
    },
    {
      "cell_type": "markdown",
      "source": [
        "#**Scrape google job search for job posts**"
      ],
      "metadata": {
        "id": "io0kKNJnVBG1"
      }
    },
    {
      "cell_type": "code",
      "execution_count": 1,
      "metadata": {
        "id": "zS-cuMufT1hH"
      },
      "outputs": [],
      "source": [
        "%%capture\n",
        "!pip install google-search-results"
      ]
    },
    {
      "cell_type": "markdown",
      "source": [
        "Serpapi requires an API key that can be accuired after registration and generating the key on [their website](https://serpapi.com/)"
      ],
      "metadata": {
        "id": "XRMrIpconiPK"
      }
    },
    {
      "cell_type": "code",
      "source": [
        "from serpapi import GoogleSearch\n",
        "\n",
        "GoogleSearch.SERP_API_KEY = \"9059a2cb2dcfb8c98d2120e706ccda574e25a9af870a95c1546cc62b832b9ead\" #delete key\n",
        "\n",
        "def get_search_results(params: dict) -> dict:\n",
        "  client = GoogleSearch(params)\n",
        "  response = client.get_dict()\n",
        "  return response"
      ],
      "metadata": {
        "id": "EHJcWoAYVKNN"
      },
      "execution_count": 2,
      "outputs": []
    },
    {
      "cell_type": "markdown",
      "source": [
        "Make a dictionary with search parameters"
      ],
      "metadata": {
        "id": "3IdhUxKC7MZg"
      }
    },
    {
      "cell_type": "code",
      "source": [
        "def get_params(query: str, page: int, eng: str, loc: str, lang: str) -> dict:\n",
        "  params = {\n",
        "      \"q\": query,\n",
        "      \"start\": page,\n",
        "      \"engine\": eng,\n",
        "      \"location\": loc,\n",
        "      \"hl\": lang\n",
        "  }\n",
        "  return params"
      ],
      "metadata": {
        "id": "7CzpSEc7aXU9"
      },
      "execution_count": 3,
      "outputs": []
    },
    {
      "cell_type": "markdown",
      "source": [
        "There is a list of titles that are related to a job position and list of pages to scrape results. This function iterates over given titles while taking search results from all of the required pages"
      ],
      "metadata": {
        "id": "sYsVK7X67qIo"
      }
    },
    {
      "cell_type": "code",
      "source": [
        "def scrape_google_jobs(titles: list, pages: list) -> dict:\n",
        "  data = []\n",
        "\n",
        "  for job_title in titles:\n",
        "    for page in pages:\n",
        "      params = get_params(job_title, page, \"google_jobs\", \"Netherlands\", \"en\")\n",
        "      jobs = get_search_results(params)\n",
        "      jobs = jobs.get(\"jobs_results\")\n",
        "      data = [*data, *jobs]\n",
        "  return data"
      ],
      "metadata": {
        "id": "P2wp86sjbusL"
      },
      "execution_count": 4,
      "outputs": []
    },
    {
      "cell_type": "code",
      "source": [
        "import pandas as pd\n",
        "\n",
        "def filter_entries(d: dict, selection: list) -> pd.DataFrame:\n",
        "  df = pd.DataFrame(d)\n",
        "  df = df[selection]\n",
        "  print(f\"before dropping duplicates - rows = {df.shape[0]}\")\n",
        "  df = df.drop_duplicates()\n",
        "  print(f\"after dropping duplicates - rows = {df.shape[0]}\")\n",
        "  return df\n",
        "\n",
        "def save_to_file(df: pd.DataFrame, path: str) -> None:\n",
        "  df.to_csv(f\"{path}\", index=False)\n",
        "\n",
        "def read_from_file(path: str) -> pd.DataFrame:\n",
        "  df = pd.read_csv(f\"{path}\")\n",
        "  return df"
      ],
      "metadata": {
        "id": "sQB1Ywd1iGUQ"
      },
      "execution_count": 5,
      "outputs": []
    },
    {
      "cell_type": "code",
      "source": [
        "job_titles = [\"data scientist\", \"machine learning\", \"artificial intelligence\"]\n",
        "pages = [0, 10, 20, 30, 40, 50]\n",
        "\n",
        "jobs = scrape_google_jobs(job_titles, pages)"
      ],
      "metadata": {
        "id": "FOTDKcC01Wya"
      },
      "execution_count": 20,
      "outputs": []
    },
    {
      "cell_type": "code",
      "source": [
        "print(f\"Title: {jobs[0]['title']}\")\n",
        "print(f\"Company name: {jobs[0]['company_name']}\")\n",
        "print(f\"Location: {jobs[0]['location']}\")\n",
        "print(f\"Description: {jobs[0]['description'][0:300]}...\")"
      ],
      "metadata": {
        "id": "lUS9shac2be4",
        "outputId": "e2b2f6f7-6c4a-4c97-c4d2-db47b61a4adc",
        "colab": {
          "base_uri": "https://localhost:8080/"
        }
      },
      "execution_count": 21,
      "outputs": [
        {
          "output_type": "stream",
          "name": "stdout",
          "text": [
            "Title: Graduate Data Scientist\n",
            "Company name: Optiver\n",
            "Location:   Amsterdam, Netherlands   \n",
            "Description: Can you solve this puzzle?\n",
            "\n",
            "An ant leaves its anthill in order to forage for food. It moves with the speed of 10cm per second, but it doesn't know where to go, therefore every second it moves randomly 10cm directly north, south, east or west with equal probability.\n",
            "• If the food is located on east-w...\n"
          ]
        }
      ]
    },
    {
      "cell_type": "code",
      "source": [
        "column_selection = [\"title\", \"company_name\", \"location\", \"description\"]\n",
        "\n",
        "jobs_df = filter_entries(jobs, column_selection)\n",
        "jobs_df.head(3)"
      ],
      "metadata": {
        "colab": {
          "base_uri": "https://localhost:8080/",
          "height": 179
        },
        "id": "J8JcACDfnBw9",
        "outputId": "2fad0e6f-f461-4679-a89f-7d11d4b87b09"
      },
      "execution_count": 22,
      "outputs": [
        {
          "output_type": "stream",
          "name": "stdout",
          "text": [
            "before dropping duplicates - rows = 180\n",
            "after dropping duplicates - rows = 159\n"
          ]
        },
        {
          "output_type": "execute_result",
          "data": {
            "text/plain": [
              "                     title      company_name                      location  \\\n",
              "0  Graduate Data Scientist           Optiver     Amsterdam, Netherlands      \n",
              "1   Process Data Scientist  FrieslandCampina    Amersfoort, Netherlands      \n",
              "2           Data Scientist             felyx     Amsterdam, Netherlands      \n",
              "\n",
              "                                         description  \n",
              "0  Can you solve this puzzle?\\n\\nAn ant leaves it...  \n",
              "1  • Work with stakeholders (supply chain experts...  \n",
              "2  Company Description\\n\\nWith the intensifying t...  "
            ],
            "text/html": [
              "\n",
              "  <div id=\"df-391473e6-28b2-4088-a6e1-a91f1d70d0d2\">\n",
              "    <div class=\"colab-df-container\">\n",
              "      <div>\n",
              "<style scoped>\n",
              "    .dataframe tbody tr th:only-of-type {\n",
              "        vertical-align: middle;\n",
              "    }\n",
              "\n",
              "    .dataframe tbody tr th {\n",
              "        vertical-align: top;\n",
              "    }\n",
              "\n",
              "    .dataframe thead th {\n",
              "        text-align: right;\n",
              "    }\n",
              "</style>\n",
              "<table border=\"1\" class=\"dataframe\">\n",
              "  <thead>\n",
              "    <tr style=\"text-align: right;\">\n",
              "      <th></th>\n",
              "      <th>title</th>\n",
              "      <th>company_name</th>\n",
              "      <th>location</th>\n",
              "      <th>description</th>\n",
              "    </tr>\n",
              "  </thead>\n",
              "  <tbody>\n",
              "    <tr>\n",
              "      <th>0</th>\n",
              "      <td>Graduate Data Scientist</td>\n",
              "      <td>Optiver</td>\n",
              "      <td>Amsterdam, Netherlands</td>\n",
              "      <td>Can you solve this puzzle?\\n\\nAn ant leaves it...</td>\n",
              "    </tr>\n",
              "    <tr>\n",
              "      <th>1</th>\n",
              "      <td>Process Data Scientist</td>\n",
              "      <td>FrieslandCampina</td>\n",
              "      <td>Amersfoort, Netherlands</td>\n",
              "      <td>• Work with stakeholders (supply chain experts...</td>\n",
              "    </tr>\n",
              "    <tr>\n",
              "      <th>2</th>\n",
              "      <td>Data Scientist</td>\n",
              "      <td>felyx</td>\n",
              "      <td>Amsterdam, Netherlands</td>\n",
              "      <td>Company Description\\n\\nWith the intensifying t...</td>\n",
              "    </tr>\n",
              "  </tbody>\n",
              "</table>\n",
              "</div>\n",
              "      <button class=\"colab-df-convert\" onclick=\"convertToInteractive('df-391473e6-28b2-4088-a6e1-a91f1d70d0d2')\"\n",
              "              title=\"Convert this dataframe to an interactive table.\"\n",
              "              style=\"display:none;\">\n",
              "        \n",
              "  <svg xmlns=\"http://www.w3.org/2000/svg\" height=\"24px\"viewBox=\"0 0 24 24\"\n",
              "       width=\"24px\">\n",
              "    <path d=\"M0 0h24v24H0V0z\" fill=\"none\"/>\n",
              "    <path d=\"M18.56 5.44l.94 2.06.94-2.06 2.06-.94-2.06-.94-.94-2.06-.94 2.06-2.06.94zm-11 1L8.5 8.5l.94-2.06 2.06-.94-2.06-.94L8.5 2.5l-.94 2.06-2.06.94zm10 10l.94 2.06.94-2.06 2.06-.94-2.06-.94-.94-2.06-.94 2.06-2.06.94z\"/><path d=\"M17.41 7.96l-1.37-1.37c-.4-.4-.92-.59-1.43-.59-.52 0-1.04.2-1.43.59L10.3 9.45l-7.72 7.72c-.78.78-.78 2.05 0 2.83L4 21.41c.39.39.9.59 1.41.59.51 0 1.02-.2 1.41-.59l7.78-7.78 2.81-2.81c.8-.78.8-2.07 0-2.86zM5.41 20L4 18.59l7.72-7.72 1.47 1.35L5.41 20z\"/>\n",
              "  </svg>\n",
              "      </button>\n",
              "      \n",
              "  <style>\n",
              "    .colab-df-container {\n",
              "      display:flex;\n",
              "      flex-wrap:wrap;\n",
              "      gap: 12px;\n",
              "    }\n",
              "\n",
              "    .colab-df-convert {\n",
              "      background-color: #E8F0FE;\n",
              "      border: none;\n",
              "      border-radius: 50%;\n",
              "      cursor: pointer;\n",
              "      display: none;\n",
              "      fill: #1967D2;\n",
              "      height: 32px;\n",
              "      padding: 0 0 0 0;\n",
              "      width: 32px;\n",
              "    }\n",
              "\n",
              "    .colab-df-convert:hover {\n",
              "      background-color: #E2EBFA;\n",
              "      box-shadow: 0px 1px 2px rgba(60, 64, 67, 0.3), 0px 1px 3px 1px rgba(60, 64, 67, 0.15);\n",
              "      fill: #174EA6;\n",
              "    }\n",
              "\n",
              "    [theme=dark] .colab-df-convert {\n",
              "      background-color: #3B4455;\n",
              "      fill: #D2E3FC;\n",
              "    }\n",
              "\n",
              "    [theme=dark] .colab-df-convert:hover {\n",
              "      background-color: #434B5C;\n",
              "      box-shadow: 0px 1px 3px 1px rgba(0, 0, 0, 0.15);\n",
              "      filter: drop-shadow(0px 1px 2px rgba(0, 0, 0, 0.3));\n",
              "      fill: #FFFFFF;\n",
              "    }\n",
              "  </style>\n",
              "\n",
              "      <script>\n",
              "        const buttonEl =\n",
              "          document.querySelector('#df-391473e6-28b2-4088-a6e1-a91f1d70d0d2 button.colab-df-convert');\n",
              "        buttonEl.style.display =\n",
              "          google.colab.kernel.accessAllowed ? 'block' : 'none';\n",
              "\n",
              "        async function convertToInteractive(key) {\n",
              "          const element = document.querySelector('#df-391473e6-28b2-4088-a6e1-a91f1d70d0d2');\n",
              "          const dataTable =\n",
              "            await google.colab.kernel.invokeFunction('convertToInteractive',\n",
              "                                                     [key], {});\n",
              "          if (!dataTable) return;\n",
              "\n",
              "          const docLinkHtml = 'Like what you see? Visit the ' +\n",
              "            '<a target=\"_blank\" href=https://colab.research.google.com/notebooks/data_table.ipynb>data table notebook</a>'\n",
              "            + ' to learn more about interactive tables.';\n",
              "          element.innerHTML = '';\n",
              "          dataTable['output_type'] = 'display_data';\n",
              "          await google.colab.output.renderOutput(dataTable, element);\n",
              "          const docLink = document.createElement('div');\n",
              "          docLink.innerHTML = docLinkHtml;\n",
              "          element.appendChild(docLink);\n",
              "        }\n",
              "      </script>\n",
              "    </div>\n",
              "  </div>\n",
              "  "
            ]
          },
          "metadata": {},
          "execution_count": 22
        }
      ]
    },
    {
      "cell_type": "markdown",
      "source": [
        "DataFrame is saved as csv file inside \"jobs\" folder on google drive. Connect to google drive before running the next cell. "
      ],
      "metadata": {
        "id": "Uh0mN8_anbU9"
      }
    },
    {
      "cell_type": "code",
      "source": [
        "import os\n",
        "\n",
        "folder = \"/content/drive/MyDrive/jobs\"\n",
        "file_name = \"/data_science_jobs.csv\"\n",
        "\n",
        "if not os.path.exists(folder):\n",
        "  os.makedirs(folder)\n",
        "\n",
        "save_to_file(jobs_df, f\"{folder}{file_name}\")"
      ],
      "metadata": {
        "id": "-CS8xVZn_TE6"
      },
      "execution_count": 23,
      "outputs": []
    },
    {
      "cell_type": "markdown",
      "source": [
        "Test if saving DataFrame to file went well and data can be retrieved"
      ],
      "metadata": {
        "id": "OGq9zCZQ1E-q"
      }
    },
    {
      "cell_type": "code",
      "source": [
        "df = read_from_file(f\"{folder}{file_name}\")\n",
        "df.head(3)"
      ],
      "metadata": {
        "colab": {
          "base_uri": "https://localhost:8080/",
          "height": 143
        },
        "id": "wCA36dxprcrd",
        "outputId": "21c662f3-a670-40b1-d4d5-4be8b88a8eb4"
      },
      "execution_count": 24,
      "outputs": [
        {
          "output_type": "execute_result",
          "data": {
            "text/plain": [
              "                     title      company_name                      location  \\\n",
              "0  Graduate Data Scientist           Optiver     Amsterdam, Netherlands      \n",
              "1   Process Data Scientist  FrieslandCampina    Amersfoort, Netherlands      \n",
              "2           Data Scientist             felyx     Amsterdam, Netherlands      \n",
              "\n",
              "                                         description  \n",
              "0  Can you solve this puzzle?\\n\\nAn ant leaves it...  \n",
              "1  • Work with stakeholders (supply chain experts...  \n",
              "2  Company Description\\n\\nWith the intensifying t...  "
            ],
            "text/html": [
              "\n",
              "  <div id=\"df-d05a2ddc-2f61-4cf2-ae25-72448456d02a\">\n",
              "    <div class=\"colab-df-container\">\n",
              "      <div>\n",
              "<style scoped>\n",
              "    .dataframe tbody tr th:only-of-type {\n",
              "        vertical-align: middle;\n",
              "    }\n",
              "\n",
              "    .dataframe tbody tr th {\n",
              "        vertical-align: top;\n",
              "    }\n",
              "\n",
              "    .dataframe thead th {\n",
              "        text-align: right;\n",
              "    }\n",
              "</style>\n",
              "<table border=\"1\" class=\"dataframe\">\n",
              "  <thead>\n",
              "    <tr style=\"text-align: right;\">\n",
              "      <th></th>\n",
              "      <th>title</th>\n",
              "      <th>company_name</th>\n",
              "      <th>location</th>\n",
              "      <th>description</th>\n",
              "    </tr>\n",
              "  </thead>\n",
              "  <tbody>\n",
              "    <tr>\n",
              "      <th>0</th>\n",
              "      <td>Graduate Data Scientist</td>\n",
              "      <td>Optiver</td>\n",
              "      <td>Amsterdam, Netherlands</td>\n",
              "      <td>Can you solve this puzzle?\\n\\nAn ant leaves it...</td>\n",
              "    </tr>\n",
              "    <tr>\n",
              "      <th>1</th>\n",
              "      <td>Process Data Scientist</td>\n",
              "      <td>FrieslandCampina</td>\n",
              "      <td>Amersfoort, Netherlands</td>\n",
              "      <td>• Work with stakeholders (supply chain experts...</td>\n",
              "    </tr>\n",
              "    <tr>\n",
              "      <th>2</th>\n",
              "      <td>Data Scientist</td>\n",
              "      <td>felyx</td>\n",
              "      <td>Amsterdam, Netherlands</td>\n",
              "      <td>Company Description\\n\\nWith the intensifying t...</td>\n",
              "    </tr>\n",
              "  </tbody>\n",
              "</table>\n",
              "</div>\n",
              "      <button class=\"colab-df-convert\" onclick=\"convertToInteractive('df-d05a2ddc-2f61-4cf2-ae25-72448456d02a')\"\n",
              "              title=\"Convert this dataframe to an interactive table.\"\n",
              "              style=\"display:none;\">\n",
              "        \n",
              "  <svg xmlns=\"http://www.w3.org/2000/svg\" height=\"24px\"viewBox=\"0 0 24 24\"\n",
              "       width=\"24px\">\n",
              "    <path d=\"M0 0h24v24H0V0z\" fill=\"none\"/>\n",
              "    <path d=\"M18.56 5.44l.94 2.06.94-2.06 2.06-.94-2.06-.94-.94-2.06-.94 2.06-2.06.94zm-11 1L8.5 8.5l.94-2.06 2.06-.94-2.06-.94L8.5 2.5l-.94 2.06-2.06.94zm10 10l.94 2.06.94-2.06 2.06-.94-2.06-.94-.94-2.06-.94 2.06-2.06.94z\"/><path d=\"M17.41 7.96l-1.37-1.37c-.4-.4-.92-.59-1.43-.59-.52 0-1.04.2-1.43.59L10.3 9.45l-7.72 7.72c-.78.78-.78 2.05 0 2.83L4 21.41c.39.39.9.59 1.41.59.51 0 1.02-.2 1.41-.59l7.78-7.78 2.81-2.81c.8-.78.8-2.07 0-2.86zM5.41 20L4 18.59l7.72-7.72 1.47 1.35L5.41 20z\"/>\n",
              "  </svg>\n",
              "      </button>\n",
              "      \n",
              "  <style>\n",
              "    .colab-df-container {\n",
              "      display:flex;\n",
              "      flex-wrap:wrap;\n",
              "      gap: 12px;\n",
              "    }\n",
              "\n",
              "    .colab-df-convert {\n",
              "      background-color: #E8F0FE;\n",
              "      border: none;\n",
              "      border-radius: 50%;\n",
              "      cursor: pointer;\n",
              "      display: none;\n",
              "      fill: #1967D2;\n",
              "      height: 32px;\n",
              "      padding: 0 0 0 0;\n",
              "      width: 32px;\n",
              "    }\n",
              "\n",
              "    .colab-df-convert:hover {\n",
              "      background-color: #E2EBFA;\n",
              "      box-shadow: 0px 1px 2px rgba(60, 64, 67, 0.3), 0px 1px 3px 1px rgba(60, 64, 67, 0.15);\n",
              "      fill: #174EA6;\n",
              "    }\n",
              "\n",
              "    [theme=dark] .colab-df-convert {\n",
              "      background-color: #3B4455;\n",
              "      fill: #D2E3FC;\n",
              "    }\n",
              "\n",
              "    [theme=dark] .colab-df-convert:hover {\n",
              "      background-color: #434B5C;\n",
              "      box-shadow: 0px 1px 3px 1px rgba(0, 0, 0, 0.15);\n",
              "      filter: drop-shadow(0px 1px 2px rgba(0, 0, 0, 0.3));\n",
              "      fill: #FFFFFF;\n",
              "    }\n",
              "  </style>\n",
              "\n",
              "      <script>\n",
              "        const buttonEl =\n",
              "          document.querySelector('#df-d05a2ddc-2f61-4cf2-ae25-72448456d02a button.colab-df-convert');\n",
              "        buttonEl.style.display =\n",
              "          google.colab.kernel.accessAllowed ? 'block' : 'none';\n",
              "\n",
              "        async function convertToInteractive(key) {\n",
              "          const element = document.querySelector('#df-d05a2ddc-2f61-4cf2-ae25-72448456d02a');\n",
              "          const dataTable =\n",
              "            await google.colab.kernel.invokeFunction('convertToInteractive',\n",
              "                                                     [key], {});\n",
              "          if (!dataTable) return;\n",
              "\n",
              "          const docLinkHtml = 'Like what you see? Visit the ' +\n",
              "            '<a target=\"_blank\" href=https://colab.research.google.com/notebooks/data_table.ipynb>data table notebook</a>'\n",
              "            + ' to learn more about interactive tables.';\n",
              "          element.innerHTML = '';\n",
              "          dataTable['output_type'] = 'display_data';\n",
              "          await google.colab.output.renderOutput(dataTable, element);\n",
              "          const docLink = document.createElement('div');\n",
              "          docLink.innerHTML = docLinkHtml;\n",
              "          element.appendChild(docLink);\n",
              "        }\n",
              "      </script>\n",
              "    </div>\n",
              "  </div>\n",
              "  "
            ]
          },
          "metadata": {},
          "execution_count": 24
        }
      ]
    }
  ]
}