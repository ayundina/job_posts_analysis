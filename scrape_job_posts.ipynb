{
  "nbformat": 4,
  "nbformat_minor": 0,
  "metadata": {
    "colab": {
      "provenance": [],
      "mount_file_id": "1FjDSJunBZDpHIIkAryn_hcYBoZOCpOIs",
      "authorship_tag": "ABX9TyM9I0WDov742+0w993/fg8k",
      "include_colab_link": true
    },
    "kernelspec": {
      "name": "python3",
      "display_name": "Python 3"
    },
    "language_info": {
      "name": "python"
    }
  },
  "cells": [
    {
      "cell_type": "markdown",
      "metadata": {
        "id": "view-in-github",
        "colab_type": "text"
      },
      "source": [
        "<a href=\"https://colab.research.google.com/github/ayundina/job_posts_analysis/blob/main/scrape_job_posts.ipynb\" target=\"_parent\"><img src=\"https://colab.research.google.com/assets/colab-badge.svg\" alt=\"Open In Colab\"/></a>"
      ]
    },
    {
      "cell_type": "markdown",
      "source": [
        "#**Scrape google job search for job posts**"
      ],
      "metadata": {
        "id": "io0kKNJnVBG1"
      }
    },
    {
      "cell_type": "code",
      "execution_count": 1,
      "metadata": {
        "id": "zS-cuMufT1hH"
      },
      "outputs": [],
      "source": [
        "%%capture\n",
        "!pip install google-search-results"
      ]
    },
    {
      "cell_type": "markdown",
      "source": [
        "Serpapi requires an API key that can be accuired after registration and generating the key on [their website](https://serpapi.com/)"
      ],
      "metadata": {
        "id": "XRMrIpconiPK"
      }
    },
    {
      "cell_type": "code",
      "source": [
        "from serpapi import GoogleSearch\n",
        "\n",
        "GoogleSearch.SERP_API_KEY = \"insert_api_key\"\n",
        "\n",
        "def get_search_results(params: dict) -> dict:\n",
        "  client = GoogleSearch(params)\n",
        "  response = client.get_dict()\n",
        "  return response"
      ],
      "metadata": {
        "id": "EHJcWoAYVKNN"
      },
      "execution_count": 30,
      "outputs": []
    },
    {
      "cell_type": "markdown",
      "source": [
        "Make a dictionary with search parameters"
      ],
      "metadata": {
        "id": "3IdhUxKC7MZg"
      }
    },
    {
      "cell_type": "code",
      "source": [
        "def get_params(query: str, page: int, eng: str, loc: str, lang: str) -> dict:\n",
        "  params = {\n",
        "      \"q\": query,\n",
        "      \"start\": page,\n",
        "      \"engine\": eng,\n",
        "      \"location\": loc,\n",
        "      \"hl\": lang\n",
        "  }\n",
        "  return params"
      ],
      "metadata": {
        "id": "7CzpSEc7aXU9"
      },
      "execution_count": 3,
      "outputs": []
    },
    {
      "cell_type": "markdown",
      "source": [
        "There is a list of titles that are related to a job position and list of pages to scrape results. This function iterates over given titles while taking search results from all of the required pages"
      ],
      "metadata": {
        "id": "sYsVK7X67qIo"
      }
    },
    {
      "cell_type": "code",
      "source": [
        "def scrape_google_jobs(titles: list, pages: list) -> dict:\n",
        "  data = []\n",
        "\n",
        "  for job_title in titles:\n",
        "    for page in pages:\n",
        "      params = get_params(job_title, page, \"google_jobs\", \"Netherlands\", \"en\")\n",
        "      jobs = get_search_results(params)\n",
        "      jobs = jobs.get(\"jobs_results\")\n",
        "      data = [*data, *jobs]\n",
        "  return data"
      ],
      "metadata": {
        "id": "P2wp86sjbusL"
      },
      "execution_count": 12,
      "outputs": []
    },
    {
      "cell_type": "code",
      "source": [
        "import pandas as pd\n",
        "\n",
        "def filter_entries(d: dict, selection: list) -> pd.DataFrame:\n",
        "  df = pd.DataFrame(d)\n",
        "  df = df[selection]\n",
        "  print(f\"before dropping duplicates - {df.shape[0]}\")\n",
        "  df = df.drop_duplicates()\n",
        "  print(f\"after dropping duplicates - {df.shape[0]}\")\n",
        "  return df\n",
        "\n",
        "def save_to_file(df: pd.DataFrame, path: str) -> None:\n",
        "  df.to_json(f\"{path}\", orient=\"records\", lines=True)\n",
        "\n",
        "def read_from_file(path: str) -> pd.DataFrame:\n",
        "  df = pd.read_json(f\"{path}\", orient=\"records\", lines=True)\n",
        "  return df"
      ],
      "metadata": {
        "id": "sQB1Ywd1iGUQ"
      },
      "execution_count": 25,
      "outputs": []
    },
    {
      "cell_type": "code",
      "source": [
        "job_titles = [\"data science\", \"machine learning\", \"artificial intelligence\"]\n",
        "pages = [0, 10, 20, 30, 40, 50]\n",
        "\n",
        "jobs = scrape_google_jobs(job_titles, pages)"
      ],
      "metadata": {
        "id": "FOTDKcC01Wya"
      },
      "execution_count": null,
      "outputs": []
    },
    {
      "cell_type": "code",
      "source": [
        "print(jobs[0])"
      ],
      "metadata": {
        "colab": {
          "base_uri": "https://localhost:8080/"
        },
        "id": "lUS9shac2be4",
        "outputId": "e7a3740b-a7d5-42d5-ffea-9d1efb750bed"
      },
      "execution_count": 31,
      "outputs": [
        {
          "output_type": "stream",
          "name": "stdout",
          "text": [
            "{'title': 'Enterprise Data Scientist', 'company_name': 'FrieslandCampina', 'location': '  Amersfoort, Netherlands   ', 'via': 'via FrieslandCampina', 'description': \"• Work with stakeholders (supply chain experts, factories, experts on shopfloor, etc) to understand business requirements and data needs.\\n• Collect, cleanse, and validate supply chain (time series) data to ensure data accuracy and completeness.\\n• Analyze large and complex data sets to identify patterns, trends, and insights related to the identified improvement areas in our supply chain\\n• Work with Data and Analytics teams to implement data-driven solutions\\n• Develop models and algorithms to improve our performance in the End-to-end Supply Chain\\n• Converting standard definitions and logic and helping build the programmer's language\\n• Communicate findings and insights to stakeholders in a clear and concise manner, and provide recommendations for action\\n• Support Loss analyses in Our Way of Working\\n• Stay up-to-date with industry trends and advances in data science methodologies and technologies, and identify opportunities to apply them to our supply chain operations\\n• Provide... meaningful input to the Digital strategy and steer towards its realization in her/his own domain\", 'job_highlights': [{'items': [\"• Work with stakeholders (supply chain experts, factories, experts on shopfloor, etc) to understand business requirements and data needs.\\n• Collect, cleanse, and validate supply chain (time series) data to ensure data accuracy and completeness.\\n• Analyze large and complex data sets to identify patterns, trends, and insights related to the identified improvement areas in our supply chain\\n• Work with Data and Analytics teams to implement data-driven solutions\\n• Develop models and algorithms to improve our performance in the End-to-end Supply Chain\\n• Converting standard definitions and logic and helping build the programmer's language\\n• Communicate findings and insights to stakeholders in a clear and concise manner, and provide recommendations for action\\n• Support Loss analyses in Our Way of Working\\n• Stay up-to-date with industry trends and advances in data science methodologies and technologies, and identify opportunities to apply them to our supply chain operations\\n• Provide... meaningful input to the Digital strategy and steer towards its realization in her/his own domain\"]}], 'related_links': [{'link': 'http://www.frieslandcampina.com/', 'text': 'frieslandcampina.com'}, {'link': 'https://www.google.com/search?hl=en&q=FrieslandCampina&sa=X&ved=0ahUKEwjxvo68-aT_AhWnVTABHd1bCB0QmJACCLoJ', 'text': 'See web results for FrieslandCampina'}], 'thumbnail': 'https://encrypted-tbn0.gstatic.com/images?q=tbn:ANd9GcTynZl6eg8HnNV5pPhZChiUNB5qL-FzyrpoVlJwUH4&s', 'extensions': ['1 day ago', 'Full-time'], 'detected_extensions': {'posted_at': '1 day ago', 'schedule_type': 'Full-time'}, 'job_id': 'eyJqb2JfdGl0bGUiOiJFbnRlcnByaXNlIERhdGEgU2NpZW50aXN0IiwiaHRpZG9jaWQiOiJCUXFZWHhOdW5EMEFBQUFBQUFBQUFBPT0iLCJ1dWxlIjoidytDQUlRSUNJTFRtVjBhR1Z5YkdGdVpITSIsImhsIjoiZW4iLCJmYyI6IkVvd0NDc3dCUVVWek4ycE9WR1IyZGpkS01ITXpSVGd3ZW1kYU1VNUJWakV6YTNwVGRtRk1UVU5SUjE5TU0waHFURlJ1ZW0xcWNqQlZOamRFYTJNMldUTlBNMmR2VW5WcVJVaFJNVlJsVTJKNFNWVk9hVU4wTjA5M2JuSlBkemhIVjBRMmJHcDNhRFZyTUZodVIwWXpNbEJ2VFhsUGRWSnFjRGM0YUdoSk5XY3dSRWRSV2pVMlIwMWlRVFJMY25Kd2FFSmxhME5zYW5wU01tRjVVVnBuVW1sR1VtMWxhbFpFTlVSb2VXdG1VVWQwVW1oZlpUVktUbnBmVGxaYVdsUlBNMWxqUlZabFVtSmZVVzlyZVRGall6ZGhFaGRIZUVZMldreElSa0poWlhKM1ltdFFNMkpsYURaQlJSb2lRVTh0TUhKc04yNTJOMWh1Tm1WQk5VZGFUamxJZFVSWk1teHJkRVl0ZHpOc1FRIiwiZmN2IjoiMyIsImZjX2lkIjoiZmNfMSIsImFwcGx5X2xpbmsiOnsidGl0bGUiOiIubkZnMmVie2ZvbnQtd2VpZ2h0OjUwMH0uQmk2RGRje2ZvbnQtd2VpZ2h0OjUwMH1BcHBseSBkaXJlY3RseSBvbiBGcmllc2xhbmRDYW1waW5hIiwibGluayI6Imh0dHBzOi8vY2FyZWVycy5mcmllc2xhbmRjYW1waW5hLmNvbS9kZXUvZW4vdmFjYW5jeS9lbnRlcnByaXNlLWRhdGEtc2NpZW50aXN0P3V0bV9jYW1wYWlnbj1nb29nbGVfam9ic19hcHBseVx1MDAyNnV0bV9zb3VyY2U9Z29vZ2xlX2pvYnNfYXBwbHlcdTAwMjZ1dG1fbWVkaXVtPW9yZ2FuaWMifX0='}\n"
          ]
        }
      ]
    },
    {
      "cell_type": "code",
      "source": [
        "column_selection = [\"title\", \"company_name\", \"location\", \"description\"]\n",
        "\n",
        "jobs_df = filter_entries(jobs, column_selection)\n",
        "jobs_df.head(3)"
      ],
      "metadata": {
        "colab": {
          "base_uri": "https://localhost:8080/",
          "height": 179
        },
        "id": "J8JcACDfnBw9",
        "outputId": "ca2c87cb-6ee3-4ab6-ea15-df1c6bdbfbc1"
      },
      "execution_count": 27,
      "outputs": [
        {
          "output_type": "stream",
          "name": "stdout",
          "text": [
            "before dropping duplicates - 180\n",
            "after dropping duplicates - 156\n"
          ]
        },
        {
          "output_type": "execute_result",
          "data": {
            "text/plain": [
              "                                title      company_name  \\\n",
              "0           Enterprise Data Scientist  FrieslandCampina   \n",
              "1                      Data Scientist             felyx   \n",
              "2  Healthcare Data Science Specialist               EMA   \n",
              "\n",
              "                       location  \\\n",
              "0    Amersfoort, Netherlands      \n",
              "1     Amsterdam, Netherlands      \n",
              "2     Noordwijk, Netherlands      \n",
              "\n",
              "                                         description  \n",
              "0  • Work with stakeholders (supply chain experts...  \n",
              "1  Company Description\\n\\nWith the intensifying t...  \n",
              "2  Job grade: AD06\\n\\nInternal/Interagency job gr...  "
            ],
            "text/html": [
              "\n",
              "  <div id=\"df-bee0dca7-ad20-43f8-9b21-b687d10362ef\">\n",
              "    <div class=\"colab-df-container\">\n",
              "      <div>\n",
              "<style scoped>\n",
              "    .dataframe tbody tr th:only-of-type {\n",
              "        vertical-align: middle;\n",
              "    }\n",
              "\n",
              "    .dataframe tbody tr th {\n",
              "        vertical-align: top;\n",
              "    }\n",
              "\n",
              "    .dataframe thead th {\n",
              "        text-align: right;\n",
              "    }\n",
              "</style>\n",
              "<table border=\"1\" class=\"dataframe\">\n",
              "  <thead>\n",
              "    <tr style=\"text-align: right;\">\n",
              "      <th></th>\n",
              "      <th>title</th>\n",
              "      <th>company_name</th>\n",
              "      <th>location</th>\n",
              "      <th>description</th>\n",
              "    </tr>\n",
              "  </thead>\n",
              "  <tbody>\n",
              "    <tr>\n",
              "      <th>0</th>\n",
              "      <td>Enterprise Data Scientist</td>\n",
              "      <td>FrieslandCampina</td>\n",
              "      <td>Amersfoort, Netherlands</td>\n",
              "      <td>• Work with stakeholders (supply chain experts...</td>\n",
              "    </tr>\n",
              "    <tr>\n",
              "      <th>1</th>\n",
              "      <td>Data Scientist</td>\n",
              "      <td>felyx</td>\n",
              "      <td>Amsterdam, Netherlands</td>\n",
              "      <td>Company Description\\n\\nWith the intensifying t...</td>\n",
              "    </tr>\n",
              "    <tr>\n",
              "      <th>2</th>\n",
              "      <td>Healthcare Data Science Specialist</td>\n",
              "      <td>EMA</td>\n",
              "      <td>Noordwijk, Netherlands</td>\n",
              "      <td>Job grade: AD06\\n\\nInternal/Interagency job gr...</td>\n",
              "    </tr>\n",
              "  </tbody>\n",
              "</table>\n",
              "</div>\n",
              "      <button class=\"colab-df-convert\" onclick=\"convertToInteractive('df-bee0dca7-ad20-43f8-9b21-b687d10362ef')\"\n",
              "              title=\"Convert this dataframe to an interactive table.\"\n",
              "              style=\"display:none;\">\n",
              "        \n",
              "  <svg xmlns=\"http://www.w3.org/2000/svg\" height=\"24px\"viewBox=\"0 0 24 24\"\n",
              "       width=\"24px\">\n",
              "    <path d=\"M0 0h24v24H0V0z\" fill=\"none\"/>\n",
              "    <path d=\"M18.56 5.44l.94 2.06.94-2.06 2.06-.94-2.06-.94-.94-2.06-.94 2.06-2.06.94zm-11 1L8.5 8.5l.94-2.06 2.06-.94-2.06-.94L8.5 2.5l-.94 2.06-2.06.94zm10 10l.94 2.06.94-2.06 2.06-.94-2.06-.94-.94-2.06-.94 2.06-2.06.94z\"/><path d=\"M17.41 7.96l-1.37-1.37c-.4-.4-.92-.59-1.43-.59-.52 0-1.04.2-1.43.59L10.3 9.45l-7.72 7.72c-.78.78-.78 2.05 0 2.83L4 21.41c.39.39.9.59 1.41.59.51 0 1.02-.2 1.41-.59l7.78-7.78 2.81-2.81c.8-.78.8-2.07 0-2.86zM5.41 20L4 18.59l7.72-7.72 1.47 1.35L5.41 20z\"/>\n",
              "  </svg>\n",
              "      </button>\n",
              "      \n",
              "  <style>\n",
              "    .colab-df-container {\n",
              "      display:flex;\n",
              "      flex-wrap:wrap;\n",
              "      gap: 12px;\n",
              "    }\n",
              "\n",
              "    .colab-df-convert {\n",
              "      background-color: #E8F0FE;\n",
              "      border: none;\n",
              "      border-radius: 50%;\n",
              "      cursor: pointer;\n",
              "      display: none;\n",
              "      fill: #1967D2;\n",
              "      height: 32px;\n",
              "      padding: 0 0 0 0;\n",
              "      width: 32px;\n",
              "    }\n",
              "\n",
              "    .colab-df-convert:hover {\n",
              "      background-color: #E2EBFA;\n",
              "      box-shadow: 0px 1px 2px rgba(60, 64, 67, 0.3), 0px 1px 3px 1px rgba(60, 64, 67, 0.15);\n",
              "      fill: #174EA6;\n",
              "    }\n",
              "\n",
              "    [theme=dark] .colab-df-convert {\n",
              "      background-color: #3B4455;\n",
              "      fill: #D2E3FC;\n",
              "    }\n",
              "\n",
              "    [theme=dark] .colab-df-convert:hover {\n",
              "      background-color: #434B5C;\n",
              "      box-shadow: 0px 1px 3px 1px rgba(0, 0, 0, 0.15);\n",
              "      filter: drop-shadow(0px 1px 2px rgba(0, 0, 0, 0.3));\n",
              "      fill: #FFFFFF;\n",
              "    }\n",
              "  </style>\n",
              "\n",
              "      <script>\n",
              "        const buttonEl =\n",
              "          document.querySelector('#df-bee0dca7-ad20-43f8-9b21-b687d10362ef button.colab-df-convert');\n",
              "        buttonEl.style.display =\n",
              "          google.colab.kernel.accessAllowed ? 'block' : 'none';\n",
              "\n",
              "        async function convertToInteractive(key) {\n",
              "          const element = document.querySelector('#df-bee0dca7-ad20-43f8-9b21-b687d10362ef');\n",
              "          const dataTable =\n",
              "            await google.colab.kernel.invokeFunction('convertToInteractive',\n",
              "                                                     [key], {});\n",
              "          if (!dataTable) return;\n",
              "\n",
              "          const docLinkHtml = 'Like what you see? Visit the ' +\n",
              "            '<a target=\"_blank\" href=https://colab.research.google.com/notebooks/data_table.ipynb>data table notebook</a>'\n",
              "            + ' to learn more about interactive tables.';\n",
              "          element.innerHTML = '';\n",
              "          dataTable['output_type'] = 'display_data';\n",
              "          await google.colab.output.renderOutput(dataTable, element);\n",
              "          const docLink = document.createElement('div');\n",
              "          docLink.innerHTML = docLinkHtml;\n",
              "          element.appendChild(docLink);\n",
              "        }\n",
              "      </script>\n",
              "    </div>\n",
              "  </div>\n",
              "  "
            ]
          },
          "metadata": {},
          "execution_count": 27
        }
      ]
    },
    {
      "cell_type": "markdown",
      "source": [
        "DataFrame is saved as json file inside \"data_science_jobs\" folder on google drive. Connect to google drive before running the next cell. "
      ],
      "metadata": {
        "id": "Uh0mN8_anbU9"
      }
    },
    {
      "cell_type": "code",
      "source": [
        "import os\n",
        "\n",
        "folder = \"/content/drive/MyDrive/jobs\"\n",
        "file_name = \"/data_science_jobs_01.json\"\n",
        "\n",
        "if not os.path.exists(folder):\n",
        "  os.makedirs(folder)\n",
        "\n",
        "save_to_file(jobs_df, f\"{folder}{file_name}\")"
      ],
      "metadata": {
        "id": "-CS8xVZn_TE6"
      },
      "execution_count": 28,
      "outputs": []
    },
    {
      "cell_type": "markdown",
      "source": [
        "Test if saving DataFrame to file went well and data can be retrieved"
      ],
      "metadata": {
        "id": "OGq9zCZQ1E-q"
      }
    },
    {
      "cell_type": "code",
      "source": [
        "df = read_from_file(f\"{folder}{file_name}\")\n",
        "df.head(3)"
      ],
      "metadata": {
        "colab": {
          "base_uri": "https://localhost:8080/",
          "height": 143
        },
        "id": "wCA36dxprcrd",
        "outputId": "6b216e1e-c6f9-4edd-c378-e92bb7022707"
      },
      "execution_count": 29,
      "outputs": [
        {
          "output_type": "execute_result",
          "data": {
            "text/plain": [
              "                                title      company_name  \\\n",
              "0           Enterprise Data Scientist  FrieslandCampina   \n",
              "1                      Data Scientist             felyx   \n",
              "2  Healthcare Data Science Specialist               EMA   \n",
              "\n",
              "                       location  \\\n",
              "0    Amersfoort, Netherlands      \n",
              "1     Amsterdam, Netherlands      \n",
              "2     Noordwijk, Netherlands      \n",
              "\n",
              "                                         description  \n",
              "0  • Work with stakeholders (supply chain experts...  \n",
              "1  Company Description\\n\\nWith the intensifying t...  \n",
              "2  Job grade: AD06\\n\\nInternal/Interagency job gr...  "
            ],
            "text/html": [
              "\n",
              "  <div id=\"df-f8df112f-8ced-47e1-b9f1-e9aa39e8703e\">\n",
              "    <div class=\"colab-df-container\">\n",
              "      <div>\n",
              "<style scoped>\n",
              "    .dataframe tbody tr th:only-of-type {\n",
              "        vertical-align: middle;\n",
              "    }\n",
              "\n",
              "    .dataframe tbody tr th {\n",
              "        vertical-align: top;\n",
              "    }\n",
              "\n",
              "    .dataframe thead th {\n",
              "        text-align: right;\n",
              "    }\n",
              "</style>\n",
              "<table border=\"1\" class=\"dataframe\">\n",
              "  <thead>\n",
              "    <tr style=\"text-align: right;\">\n",
              "      <th></th>\n",
              "      <th>title</th>\n",
              "      <th>company_name</th>\n",
              "      <th>location</th>\n",
              "      <th>description</th>\n",
              "    </tr>\n",
              "  </thead>\n",
              "  <tbody>\n",
              "    <tr>\n",
              "      <th>0</th>\n",
              "      <td>Enterprise Data Scientist</td>\n",
              "      <td>FrieslandCampina</td>\n",
              "      <td>Amersfoort, Netherlands</td>\n",
              "      <td>• Work with stakeholders (supply chain experts...</td>\n",
              "    </tr>\n",
              "    <tr>\n",
              "      <th>1</th>\n",
              "      <td>Data Scientist</td>\n",
              "      <td>felyx</td>\n",
              "      <td>Amsterdam, Netherlands</td>\n",
              "      <td>Company Description\\n\\nWith the intensifying t...</td>\n",
              "    </tr>\n",
              "    <tr>\n",
              "      <th>2</th>\n",
              "      <td>Healthcare Data Science Specialist</td>\n",
              "      <td>EMA</td>\n",
              "      <td>Noordwijk, Netherlands</td>\n",
              "      <td>Job grade: AD06\\n\\nInternal/Interagency job gr...</td>\n",
              "    </tr>\n",
              "  </tbody>\n",
              "</table>\n",
              "</div>\n",
              "      <button class=\"colab-df-convert\" onclick=\"convertToInteractive('df-f8df112f-8ced-47e1-b9f1-e9aa39e8703e')\"\n",
              "              title=\"Convert this dataframe to an interactive table.\"\n",
              "              style=\"display:none;\">\n",
              "        \n",
              "  <svg xmlns=\"http://www.w3.org/2000/svg\" height=\"24px\"viewBox=\"0 0 24 24\"\n",
              "       width=\"24px\">\n",
              "    <path d=\"M0 0h24v24H0V0z\" fill=\"none\"/>\n",
              "    <path d=\"M18.56 5.44l.94 2.06.94-2.06 2.06-.94-2.06-.94-.94-2.06-.94 2.06-2.06.94zm-11 1L8.5 8.5l.94-2.06 2.06-.94-2.06-.94L8.5 2.5l-.94 2.06-2.06.94zm10 10l.94 2.06.94-2.06 2.06-.94-2.06-.94-.94-2.06-.94 2.06-2.06.94z\"/><path d=\"M17.41 7.96l-1.37-1.37c-.4-.4-.92-.59-1.43-.59-.52 0-1.04.2-1.43.59L10.3 9.45l-7.72 7.72c-.78.78-.78 2.05 0 2.83L4 21.41c.39.39.9.59 1.41.59.51 0 1.02-.2 1.41-.59l7.78-7.78 2.81-2.81c.8-.78.8-2.07 0-2.86zM5.41 20L4 18.59l7.72-7.72 1.47 1.35L5.41 20z\"/>\n",
              "  </svg>\n",
              "      </button>\n",
              "      \n",
              "  <style>\n",
              "    .colab-df-container {\n",
              "      display:flex;\n",
              "      flex-wrap:wrap;\n",
              "      gap: 12px;\n",
              "    }\n",
              "\n",
              "    .colab-df-convert {\n",
              "      background-color: #E8F0FE;\n",
              "      border: none;\n",
              "      border-radius: 50%;\n",
              "      cursor: pointer;\n",
              "      display: none;\n",
              "      fill: #1967D2;\n",
              "      height: 32px;\n",
              "      padding: 0 0 0 0;\n",
              "      width: 32px;\n",
              "    }\n",
              "\n",
              "    .colab-df-convert:hover {\n",
              "      background-color: #E2EBFA;\n",
              "      box-shadow: 0px 1px 2px rgba(60, 64, 67, 0.3), 0px 1px 3px 1px rgba(60, 64, 67, 0.15);\n",
              "      fill: #174EA6;\n",
              "    }\n",
              "\n",
              "    [theme=dark] .colab-df-convert {\n",
              "      background-color: #3B4455;\n",
              "      fill: #D2E3FC;\n",
              "    }\n",
              "\n",
              "    [theme=dark] .colab-df-convert:hover {\n",
              "      background-color: #434B5C;\n",
              "      box-shadow: 0px 1px 3px 1px rgba(0, 0, 0, 0.15);\n",
              "      filter: drop-shadow(0px 1px 2px rgba(0, 0, 0, 0.3));\n",
              "      fill: #FFFFFF;\n",
              "    }\n",
              "  </style>\n",
              "\n",
              "      <script>\n",
              "        const buttonEl =\n",
              "          document.querySelector('#df-f8df112f-8ced-47e1-b9f1-e9aa39e8703e button.colab-df-convert');\n",
              "        buttonEl.style.display =\n",
              "          google.colab.kernel.accessAllowed ? 'block' : 'none';\n",
              "\n",
              "        async function convertToInteractive(key) {\n",
              "          const element = document.querySelector('#df-f8df112f-8ced-47e1-b9f1-e9aa39e8703e');\n",
              "          const dataTable =\n",
              "            await google.colab.kernel.invokeFunction('convertToInteractive',\n",
              "                                                     [key], {});\n",
              "          if (!dataTable) return;\n",
              "\n",
              "          const docLinkHtml = 'Like what you see? Visit the ' +\n",
              "            '<a target=\"_blank\" href=https://colab.research.google.com/notebooks/data_table.ipynb>data table notebook</a>'\n",
              "            + ' to learn more about interactive tables.';\n",
              "          element.innerHTML = '';\n",
              "          dataTable['output_type'] = 'display_data';\n",
              "          await google.colab.output.renderOutput(dataTable, element);\n",
              "          const docLink = document.createElement('div');\n",
              "          docLink.innerHTML = docLinkHtml;\n",
              "          element.appendChild(docLink);\n",
              "        }\n",
              "      </script>\n",
              "    </div>\n",
              "  </div>\n",
              "  "
            ]
          },
          "metadata": {},
          "execution_count": 29
        }
      ]
    }
  ]
}