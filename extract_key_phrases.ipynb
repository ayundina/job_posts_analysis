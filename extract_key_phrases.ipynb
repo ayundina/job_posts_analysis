{
  "nbformat": 4,
  "nbformat_minor": 0,
  "metadata": {
    "colab": {
      "provenance": [],
      "mount_file_id": "19zWPw8LGEOjg91Pid9MivC9pYM8DiHcq",
      "authorship_tag": "ABX9TyNfqP4UEJov028zVXbzsxdb",
      "include_colab_link": true
    },
    "kernelspec": {
      "name": "python3",
      "display_name": "Python 3"
    },
    "language_info": {
      "name": "python"
    }
  },
  "cells": [
    {
      "cell_type": "markdown",
      "metadata": {
        "id": "view-in-github",
        "colab_type": "text"
      },
      "source": [
        "<a href=\"https://colab.research.google.com/github/ayundina/job_posts_analysis/blob/main/extract_key_phrases.ipynb\" target=\"_parent\"><img src=\"https://colab.research.google.com/assets/colab-badge.svg\" alt=\"Open In Colab\"/></a>"
      ]
    },
    {
      "cell_type": "markdown",
      "source": [
        "#**Extract phrases**"
      ],
      "metadata": {
        "id": "7AsP5fPExOnt"
      }
    },
    {
      "cell_type": "code",
      "execution_count": 2,
      "metadata": {
        "id": "rQReuw9YxGeQ"
      },
      "outputs": [],
      "source": [
        "%%capture\n",
        "!pip install openai"
      ]
    },
    {
      "cell_type": "markdown",
      "source": [
        "Prompt OpenAI model to extract phrases from job descriptions"
      ],
      "metadata": {
        "id": "m5pAPP4S3-_b"
      }
    },
    {
      "cell_type": "code",
      "source": [
        "SYSTEM_PROMPT = (\"You are a smart and intelligent Named Entity Recognition \"\n",
        "                 \"(NER) system. I will provide you the definition of the \"\n",
        "                 \"entities you need to extract, the text samples from where \"\n",
        "                 \"your extract the entities and the output format with \"\n",
        "                 \"examples.\")\n",
        "USER_PROMPT_1 = \"Are you clear about your role?\"\n",
        "ASSISTANT_PROMPT_1 = (\"Sure, I'm ready to help you with your NER task. \"\n",
        "                      \"Please provide me with the necessary information \"\n",
        "                      \"to get started.\")\n",
        "GUIDELINES_PROMPT = (\n",
        "    \"Entity Definition:\\n\"\n",
        "    \"1. EDU: Name of a degree.\\n\"\n",
        "    \"2. EXP: Number of years of work experience. Years can also be in natural \"\n",
        "    \"language.\\n\"\n",
        "    \"3. TOOL: Name of any programming language or engineering tool.\\n\"\n",
        "    \"4. TECH: Any type of technology or skill\"\n",
        "    \"\\n\"\n",
        "    \"Entity Format:\\n\"\n",
        "    \"All entities must be formated as follows:\\n\"\n",
        "    \"- lowercased\"\n",
        "    \"- 'Ph.D' or 'PhD' or other modifications of a Doctorate degree should \"\n",
        "    \"become 'phd'\\n\"\n",
        "    \"- 'Master’s' or 'Master' or 'Masters' or 'MSc' or other modifications of \"\n",
        "    \"a Master’s degree should become 'msc'\\n\"\n",
        "    \"- 'BSc' or any other modifications of a bachelor degree should be shown \"\n",
        "    \"as 'bsc'\\n\"\n",
        "    \"- 'Machine Learning' or 'machine learning' or its abbreviation - 'ML' \"\n",
        "    \"should become 'ml'\\n\"\n",
        "    \"- 'Artificial Intelligence' or 'artificial intelligence' or its \"\n",
        "    \"abbreviation - 'AI'  should become 'ai'\\n\"\n",
        "    \"- 'AI/ML' or 'ML/AI' or 'Machine Learning/Artificial Intelligence' or \"\n",
        "    \"'Artificial Intelligence/Machine Learning' should become two separate \"\n",
        "    \"entities: 'ai' and 'ml'\\n\"\n",
        "    \"- 'Natural Language Processing' or its abbreviation - 'NLP' should \"\n",
        "    \"become 'nlp'\\n\"\n",
        "    \"- 'Large Language Model' or its abbreviation 'LLM' should become 'llm'\\n\"\n",
        "    \"- from the working experience remove spaces and words, leave digits and \"\n",
        "    \"pluses or dashes only. For example '3 – 5 years of experience' should \"\n",
        "    \"become '3-5' and '3+ years' should become '3+' and '3 years of \"\n",
        "    \"experience' should become '3'\\n\"\n",
        "    \"\\n\"\n",
        "    \"Output Format:\\n\"\n",
        "    \"{'EDU': {set of entities present}, 'EXP': {set of entities present}, \"\n",
        "    \"'TOOL': {set of entities present}, 'TECH': {set of entities present}}\\n\"\n",
        "    \"If no entities are presented in any categories keep it as an empty set: \"\n",
        "    \"{}\\n\"\n",
        "    \"\\n\"\n",
        "    \"Examples:\\n\"\n",
        "    \"\\n\"\n",
        "    \"1. Text sample: Have a strong quantitative background (statistics, \"\n",
        "    \"machine learning, sciences, etc.). Master’s or Ph.D. in NLP, \"\n",
        "    \"Computational Linguistics, Data Science, Computer Science, or another \"\n",
        "    \"relevant field. 4+ years experience in applied R&D in the field of NLP / \"\n",
        "    \"LLM, reasoning or related fields.\\n\"\n",
        "    \"{'EDU': {'msc', 'phd'}, 'EXP': {'4+'}, 'TOOL': {}, 'TECH': \"\n",
        "    \"{'statistics', 'ml', 'sciences', 'computational linguistics', \"\n",
        "    \"'data science', 'computer science', 'nlp', 'llm', 'reasoning'}}\\n\"\n",
        "    \"\\n\"\n",
        "    \"2. Text sample: 3+ years of relevant work experience (or equivalent), \"\n",
        "    \"involved with the application of Machine Learning and Artificial \"\n",
        "    \"Intelligence to business problems in a commercial environment. \"\n",
        "    \"Demonstrable experience of multiple machine learning facets, such as \"\n",
        "    \"working with large data sets and large language models, experimentation, \"\n",
        "    \"scalability and optimization. Fluency in at least one programming \"\n",
        "    \"language, with a strong preference for Python. Strong working knowledge \"\n",
        "    \"of Spark and SQL. Experience working in a cloud environment is a plus. \"\n",
        "    \"Experience with data-driven product development: analytics, A/B testing, \"\n",
        "    \"etc. You have a ‘can do’ attitude and you act proactively and not \"\n",
        "    \"reactively. BSc or higher in Computer Science, Artificial Intelligence, \"\n",
        "    \"Software Engineering, or related fields. Excellent English communication \"\n",
        "    \"skills, both written and verbal..\\n\"\n",
        "    \"{'EDU': {'bsc'}, 'EXP': {'3+'}, 'TOOL': {'python', 'spark', 'sql'}, \"\n",
        "    \"'TECH': {'ml', 'ai', 'large data sets', 'llm', 'experimentation', \"\n",
        "    \"'scalability', 'optimization', 'cloud environment', 'analytics', \"\n",
        "    \"'a/b testing', 'computer science', 'ai', 'software engineering', \"\n",
        "    \"'english'}}\\n\"\n",
        "    \"\\n\"\n",
        "    \"3. Text sample: University graduate (Master or PhD level) in Computer \"\n",
        "    \"Science, Artificial Intelligence, Computational Linguistics or an \"\n",
        "    \"associated area. 3 – 5 years of experience in Machine Learning or a \"\n",
        "    \"similar role. Solid software engineering skills and experience including \"\n",
        "    \"coding, testing, troubleshooting and deployment. Experience using key \"\n",
        "    \"languages like JVM-based languages (Java, Clojure), C++ and Python. \"\n",
        "    \"Large scale data processing experience using Spark or Hadoop/MapReduce. \"\n",
        "    \"Solid Experience in machine learning including supervised or \"\n",
        "    \"unsupervised learning techniques and algorithms (e.g. k-NN, SVM, RVM, \"\n",
        "    \"Naïve Bayes, Decision trees, etc.). Familiarity with cloud computing \"\n",
        "    \"(AWS). Experience and/or interest in Scala is a plus. Relevant \"\n",
        "    \"certificates (Spark, Hadoop/Cloudera or CBIP) is a plus. Experience with \"\n",
        "    \"Git or a similarly distributed revision control system. You think a \"\n",
        "    \"working proof-of-concept is the best way to make a point. Experience \"\n",
        "    \"working with a variety of stakeholders at the mid and senior management \"\n",
        "    \"level and ability to coach junior members.\\n\"\n",
        "    \"{'EDU': {'msc', 'phd'}, 'EXP': {'3–5'}, 'TOOL': {'java', 'clojure', \"\n",
        "    \"'c++', 'python', 'spark', 'hadoop', 'mapreduce', 'aws', 'scala', \"\n",
        "    \"'cloudera', 'cbip', 'git'}, 'TECH': {'computer science', 'ai', \"\n",
        "    \"'computational linguistics', 'ml', 'software engineering', 'coding', \"\n",
        "    \"'testing', 'troubleshooting', 'deployment', 'large scale data \"\n",
        "    \"processing', 'supervised', 'unsupervised learning', 'k-nn', 'svm', \"\n",
        "    \"'rvm', 'naïve bayes', 'decision trees', 'cloud computing'}}\"\n",
        ")\n",
        "ASSISTANT_PROMPT_2 = (\"The instructions are clear. Please provide the job \"\n",
        "                      \"description.\")\n"
      ],
      "metadata": {
        "id": "I6nNxN-QxnKl"
      },
      "execution_count": 12,
      "outputs": []
    },
    {
      "cell_type": "markdown",
      "source": [
        "Function to extract key phrases from a single job description. OpenAI requires an API key that can be accuired after registration and generating the key on [their website](https://openai.com)"
      ],
      "metadata": {
        "id": "-NI1h6Ti-zcq"
      }
    },
    {
      "cell_type": "code",
      "source": [
        "import openai\n",
        "\n",
        "openai.api_key = \"sk-...\" # insert API key\n",
        "\n",
        "def extract_edu_exp_tech_tool(job_description: str) -> str:\n",
        "  try:\n",
        "    response = openai.ChatCompletion.create(\n",
        "        model=\"gpt-3.5-turbo\",\n",
        "        messages=[\n",
        "            {\"role\": \"system\", \"content\": SYSTEM_PROMPT},\n",
        "            {\"role\": \"user\", \"content\": USER_PROMPT_1},\n",
        "            {\"role\": \"assistant\", \"content\": ASSISTANT_PROMPT_1},\n",
        "            {\"role\": \"user\", \"content\": GUIDELINES_PROMPT},\n",
        "            {\"role\": \"assistant\", \"content\": ASSISTANT_PROMPT_2},\n",
        "            {\"role\": \"user\", \"content\": job_description}\n",
        "        ]\n",
        "    )\n",
        "    skills = response['choices'][0]['message']['content'].split('\\n', 1)[0]\n",
        "  except Exception as e:\n",
        "    print(f\"Exception in extract_edu_exp_tech_tool() - {e}\")\n",
        "    print(f\"Job description: {job_description[0:150]}\")\n",
        "    skills = \"{'EDU': {}, 'EXP': {}, 'TOOL': {}, 'TECH': {}}\"\n",
        "  return skills"
      ],
      "metadata": {
        "id": "s8wf5MwxxrOc"
      },
      "execution_count": 4,
      "outputs": []
    },
    {
      "cell_type": "markdown",
      "source": [
        "Function to apply key phrases extraction to a dataframe"
      ],
      "metadata": {
        "id": "4bkYEi8MAg0Y"
      }
    },
    {
      "cell_type": "code",
      "source": [
        "import pandas as pd\n",
        "from typing import Callable\n",
        "\n",
        "def df_apply(df: pd.DataFrame, func: Callable, new_col: str, col: str) -> pd.DataFrame:\n",
        "  try:\n",
        "    df[new_col] = df.apply(lambda x: func(x[col]), axis=1)\n",
        "  except Exception as e:\n",
        "    print(f\"Exception in df_apply() - {e}\")\n",
        "  return df"
      ],
      "metadata": {
        "id": "s6X1R39LQda3"
      },
      "execution_count": 5,
      "outputs": []
    },
    {
      "cell_type": "markdown",
      "source": [
        "Function to save/append results to a file"
      ],
      "metadata": {
        "id": "DCDS-zv6JYwE"
      }
    },
    {
      "cell_type": "code",
      "source": [
        "import os\n",
        "\n",
        "def df_append_to_file(df: pd.DataFrame, path: str) -> None:\n",
        "  header = True\n",
        "  if os.path.exists(f\"{path}\"):\n",
        "    header = False\n",
        "  df.to_csv(f\"{path}\", mode=\"a\", header=header, index=False)\n",
        "\n",
        "def save_to_file(df: pd.DataFrame, path: str) -> None:\n",
        "  df.to_csv(f\"{path}\", index=False)\n",
        "\n",
        "def read_from_file(path: str) -> pd.DataFrame:\n",
        "  df = pd.read_csv(f\"{path}\")\n",
        "  return df"
      ],
      "metadata": {
        "id": "3p9_XoPjDC68"
      },
      "execution_count": 6,
      "outputs": []
    },
    {
      "cell_type": "markdown",
      "source": [
        "Process in batches in case if something fails"
      ],
      "metadata": {
        "id": "dy_e4-BjFgjq"
      }
    },
    {
      "cell_type": "code",
      "source": [
        "from tqdm import tqdm\n",
        "\n",
        "def process_in_batches(df: pd.DataFrame, start: int, batch_size: int, path: str, batch_func: Callable, cell_func, new_col, col) -> None:\n",
        "  n_rows = df.shape[0]\n",
        "  try:\n",
        "    for batch_start in tqdm(range(0, n_rows, batch_size)):\n",
        "      batch_end = batch_start + batch_size\n",
        "      if batch_end > n_rows:\n",
        "        batch_end = n_rows\n",
        "      batch_df = df[batch_start:batch_end].copy()\n",
        "      batch_func(batch_df, cell_func, new_col, col)\n",
        "      df_append_to_file(batch_df, path)\n",
        "  except Exception as e:\n",
        "    print(f\"Exception in process_in_batches() - {e}\")\n",
        "    print(f\"Batch failed = {batch_start}\")"
      ],
      "metadata": {
        "id": "KQGRj_rgFmdy"
      },
      "execution_count": 16,
      "outputs": []
    },
    {
      "cell_type": "markdown",
      "source": [
        "Open the file with jobs from the Google Drive"
      ],
      "metadata": {
        "id": "rMunYevXCRx9"
      }
    },
    {
      "cell_type": "code",
      "source": [
        "folder = \"/content/drive/MyDrive/jobs\"\n",
        "file_name = \"/data_science_jobs.csv\"\n",
        "\n",
        "jobs_df = read_from_file(f\"{folder}{file_name}\")\n",
        "n_rows = jobs_df.shape[0]\n",
        "print(f\"rows = {n_rows}\")\n",
        "jobs_df.head(n_rows)"
      ],
      "metadata": {
        "id": "ow-3RmseCgW3",
        "colab": {
          "base_uri": "https://localhost:8080/",
          "height": 441
        },
        "outputId": "943e25e4-815a-462e-e20b-f84a522bc7ad"
      },
      "execution_count": 15,
      "outputs": [
        {
          "output_type": "stream",
          "name": "stdout",
          "text": [
            "rows = 159\n"
          ]
        },
        {
          "output_type": "execute_result",
          "data": {
            "text/plain": [
              "                                                 title  \\\n",
              "0                              Graduate Data Scientist   \n",
              "1                               Process Data Scientist   \n",
              "2                                       Data Scientist   \n",
              "3                                       Data Scientist   \n",
              "4                                       Data Scientist   \n",
              "..                                                 ...   \n",
              "154  PhD position: Predicting radiotherapy outcome ...   \n",
              "155  Internship: Computer Science, Robotics, Comput...   \n",
              "156  Data Scientist Artificial Intelligence ervarin...   \n",
              "157  PhD position on Hybrid argumentation using lar...   \n",
              "158                    Machine Learning Data Scientist   \n",
              "\n",
              "                                   company_name                      location  \\\n",
              "0                                       Optiver     Amsterdam, Netherlands      \n",
              "1                              FrieslandCampina    Amersfoort, Netherlands      \n",
              "2                                         felyx     Amsterdam, Netherlands      \n",
              "3                                         Adyen     Amsterdam, Netherlands      \n",
              "4                                      HEINEKEN     Amsterdam, Netherlands      \n",
              "..                                          ...                           ...   \n",
              "154  University Medical Centre Groningen (UMCG)     Groningen, Netherlands      \n",
              "155                                        Lely     Maassluis, Netherlands      \n",
              "156                                 CareerValue    Amersfoort, Netherlands      \n",
              "157             Vrije Universiteit Amsterdam VU     Amsterdam, Netherlands      \n",
              "158                                        OKRA        Leiden, Netherlands      \n",
              "\n",
              "                                           description  \n",
              "0    Can you solve this puzzle?\\n\\nAn ant leaves it...  \n",
              "1    • Work with stakeholders (supply chain experts...  \n",
              "2    Company Description\\n\\nWith the intensifying t...  \n",
              "3    This is Adyen\\n\\nAdyen provides payments, data...  \n",
              "4    Data Scientist\\n\\nThe mission of Global Analyt...  \n",
              "..                                                 ...  \n",
              "154  Radiotherapy is an important treatment modalit...  \n",
              "155  Job DescriptionAre you following a degree in C...  \n",
              "156  Voor een toffe consultancy bedrijf die het geb...  \n",
              "157  A 4-year full-time Ph.D. student position is a...  \n",
              "158  Passionate about developing and implementing c...  \n",
              "\n",
              "[159 rows x 4 columns]"
            ],
            "text/html": [
              "\n",
              "  <div id=\"df-974cd536-03fc-440a-b727-ec2d4152cb52\">\n",
              "    <div class=\"colab-df-container\">\n",
              "      <div>\n",
              "<style scoped>\n",
              "    .dataframe tbody tr th:only-of-type {\n",
              "        vertical-align: middle;\n",
              "    }\n",
              "\n",
              "    .dataframe tbody tr th {\n",
              "        vertical-align: top;\n",
              "    }\n",
              "\n",
              "    .dataframe thead th {\n",
              "        text-align: right;\n",
              "    }\n",
              "</style>\n",
              "<table border=\"1\" class=\"dataframe\">\n",
              "  <thead>\n",
              "    <tr style=\"text-align: right;\">\n",
              "      <th></th>\n",
              "      <th>title</th>\n",
              "      <th>company_name</th>\n",
              "      <th>location</th>\n",
              "      <th>description</th>\n",
              "    </tr>\n",
              "  </thead>\n",
              "  <tbody>\n",
              "    <tr>\n",
              "      <th>0</th>\n",
              "      <td>Graduate Data Scientist</td>\n",
              "      <td>Optiver</td>\n",
              "      <td>Amsterdam, Netherlands</td>\n",
              "      <td>Can you solve this puzzle?\\n\\nAn ant leaves it...</td>\n",
              "    </tr>\n",
              "    <tr>\n",
              "      <th>1</th>\n",
              "      <td>Process Data Scientist</td>\n",
              "      <td>FrieslandCampina</td>\n",
              "      <td>Amersfoort, Netherlands</td>\n",
              "      <td>• Work with stakeholders (supply chain experts...</td>\n",
              "    </tr>\n",
              "    <tr>\n",
              "      <th>2</th>\n",
              "      <td>Data Scientist</td>\n",
              "      <td>felyx</td>\n",
              "      <td>Amsterdam, Netherlands</td>\n",
              "      <td>Company Description\\n\\nWith the intensifying t...</td>\n",
              "    </tr>\n",
              "    <tr>\n",
              "      <th>3</th>\n",
              "      <td>Data Scientist</td>\n",
              "      <td>Adyen</td>\n",
              "      <td>Amsterdam, Netherlands</td>\n",
              "      <td>This is Adyen\\n\\nAdyen provides payments, data...</td>\n",
              "    </tr>\n",
              "    <tr>\n",
              "      <th>4</th>\n",
              "      <td>Data Scientist</td>\n",
              "      <td>HEINEKEN</td>\n",
              "      <td>Amsterdam, Netherlands</td>\n",
              "      <td>Data Scientist\\n\\nThe mission of Global Analyt...</td>\n",
              "    </tr>\n",
              "    <tr>\n",
              "      <th>...</th>\n",
              "      <td>...</td>\n",
              "      <td>...</td>\n",
              "      <td>...</td>\n",
              "      <td>...</td>\n",
              "    </tr>\n",
              "    <tr>\n",
              "      <th>154</th>\n",
              "      <td>PhD position: Predicting radiotherapy outcome ...</td>\n",
              "      <td>University Medical Centre Groningen (UMCG)</td>\n",
              "      <td>Groningen, Netherlands</td>\n",
              "      <td>Radiotherapy is an important treatment modalit...</td>\n",
              "    </tr>\n",
              "    <tr>\n",
              "      <th>155</th>\n",
              "      <td>Internship: Computer Science, Robotics, Comput...</td>\n",
              "      <td>Lely</td>\n",
              "      <td>Maassluis, Netherlands</td>\n",
              "      <td>Job DescriptionAre you following a degree in C...</td>\n",
              "    </tr>\n",
              "    <tr>\n",
              "      <th>156</th>\n",
              "      <td>Data Scientist Artificial Intelligence ervarin...</td>\n",
              "      <td>CareerValue</td>\n",
              "      <td>Amersfoort, Netherlands</td>\n",
              "      <td>Voor een toffe consultancy bedrijf die het geb...</td>\n",
              "    </tr>\n",
              "    <tr>\n",
              "      <th>157</th>\n",
              "      <td>PhD position on Hybrid argumentation using lar...</td>\n",
              "      <td>Vrije Universiteit Amsterdam VU</td>\n",
              "      <td>Amsterdam, Netherlands</td>\n",
              "      <td>A 4-year full-time Ph.D. student position is a...</td>\n",
              "    </tr>\n",
              "    <tr>\n",
              "      <th>158</th>\n",
              "      <td>Machine Learning Data Scientist</td>\n",
              "      <td>OKRA</td>\n",
              "      <td>Leiden, Netherlands</td>\n",
              "      <td>Passionate about developing and implementing c...</td>\n",
              "    </tr>\n",
              "  </tbody>\n",
              "</table>\n",
              "<p>159 rows × 4 columns</p>\n",
              "</div>\n",
              "      <button class=\"colab-df-convert\" onclick=\"convertToInteractive('df-974cd536-03fc-440a-b727-ec2d4152cb52')\"\n",
              "              title=\"Convert this dataframe to an interactive table.\"\n",
              "              style=\"display:none;\">\n",
              "        \n",
              "  <svg xmlns=\"http://www.w3.org/2000/svg\" height=\"24px\"viewBox=\"0 0 24 24\"\n",
              "       width=\"24px\">\n",
              "    <path d=\"M0 0h24v24H0V0z\" fill=\"none\"/>\n",
              "    <path d=\"M18.56 5.44l.94 2.06.94-2.06 2.06-.94-2.06-.94-.94-2.06-.94 2.06-2.06.94zm-11 1L8.5 8.5l.94-2.06 2.06-.94-2.06-.94L8.5 2.5l-.94 2.06-2.06.94zm10 10l.94 2.06.94-2.06 2.06-.94-2.06-.94-.94-2.06-.94 2.06-2.06.94z\"/><path d=\"M17.41 7.96l-1.37-1.37c-.4-.4-.92-.59-1.43-.59-.52 0-1.04.2-1.43.59L10.3 9.45l-7.72 7.72c-.78.78-.78 2.05 0 2.83L4 21.41c.39.39.9.59 1.41.59.51 0 1.02-.2 1.41-.59l7.78-7.78 2.81-2.81c.8-.78.8-2.07 0-2.86zM5.41 20L4 18.59l7.72-7.72 1.47 1.35L5.41 20z\"/>\n",
              "  </svg>\n",
              "      </button>\n",
              "      \n",
              "  <style>\n",
              "    .colab-df-container {\n",
              "      display:flex;\n",
              "      flex-wrap:wrap;\n",
              "      gap: 12px;\n",
              "    }\n",
              "\n",
              "    .colab-df-convert {\n",
              "      background-color: #E8F0FE;\n",
              "      border: none;\n",
              "      border-radius: 50%;\n",
              "      cursor: pointer;\n",
              "      display: none;\n",
              "      fill: #1967D2;\n",
              "      height: 32px;\n",
              "      padding: 0 0 0 0;\n",
              "      width: 32px;\n",
              "    }\n",
              "\n",
              "    .colab-df-convert:hover {\n",
              "      background-color: #E2EBFA;\n",
              "      box-shadow: 0px 1px 2px rgba(60, 64, 67, 0.3), 0px 1px 3px 1px rgba(60, 64, 67, 0.15);\n",
              "      fill: #174EA6;\n",
              "    }\n",
              "\n",
              "    [theme=dark] .colab-df-convert {\n",
              "      background-color: #3B4455;\n",
              "      fill: #D2E3FC;\n",
              "    }\n",
              "\n",
              "    [theme=dark] .colab-df-convert:hover {\n",
              "      background-color: #434B5C;\n",
              "      box-shadow: 0px 1px 3px 1px rgba(0, 0, 0, 0.15);\n",
              "      filter: drop-shadow(0px 1px 2px rgba(0, 0, 0, 0.3));\n",
              "      fill: #FFFFFF;\n",
              "    }\n",
              "  </style>\n",
              "\n",
              "      <script>\n",
              "        const buttonEl =\n",
              "          document.querySelector('#df-974cd536-03fc-440a-b727-ec2d4152cb52 button.colab-df-convert');\n",
              "        buttonEl.style.display =\n",
              "          google.colab.kernel.accessAllowed ? 'block' : 'none';\n",
              "\n",
              "        async function convertToInteractive(key) {\n",
              "          const element = document.querySelector('#df-974cd536-03fc-440a-b727-ec2d4152cb52');\n",
              "          const dataTable =\n",
              "            await google.colab.kernel.invokeFunction('convertToInteractive',\n",
              "                                                     [key], {});\n",
              "          if (!dataTable) return;\n",
              "\n",
              "          const docLinkHtml = 'Like what you see? Visit the ' +\n",
              "            '<a target=\"_blank\" href=https://colab.research.google.com/notebooks/data_table.ipynb>data table notebook</a>'\n",
              "            + ' to learn more about interactive tables.';\n",
              "          element.innerHTML = '';\n",
              "          dataTable['output_type'] = 'display_data';\n",
              "          await google.colab.output.renderOutput(dataTable, element);\n",
              "          const docLink = document.createElement('div');\n",
              "          docLink.innerHTML = docLinkHtml;\n",
              "          element.appendChild(docLink);\n",
              "        }\n",
              "      </script>\n",
              "    </div>\n",
              "  </div>\n",
              "  "
            ]
          },
          "metadata": {},
          "execution_count": 15
        }
      ]
    },
    {
      "cell_type": "markdown",
      "source": [
        "\n",
        "Process the jobs in batches"
      ],
      "metadata": {
        "id": "TpMlitKJPr2A"
      }
    },
    {
      "cell_type": "code",
      "source": [
        "file_name_processed = \"/processed_jobs.csv\"\n",
        "\n",
        "process_in_batches(jobs_df, 0, 10, f\"{folder}{file_name_processed}\", df_apply, extract_edu_exp_tech_tool, 'key_requirements', 'description')"
      ],
      "metadata": {
        "id": "iUP99K4KPwBY",
        "colab": {
          "base_uri": "https://localhost:8080/"
        },
        "outputId": "65f250d7-4fba-4dae-e34f-ded477940eaa"
      },
      "execution_count": 17,
      "outputs": [
        {
          "output_type": "stream",
          "name": "stderr",
          "text": [
            "  6%|▋         | 1/16 [01:43<25:54, 103.65s/it]"
          ]
        },
        {
          "output_type": "stream",
          "name": "stdout",
          "text": [
            "Exception in extract_edu_exp_tech_tool() - The server is overloaded or not ready yet.\n",
            "Job description: We are the fastest growing omnichannel supermarket in the Netherlands. We are continuously improving, so if you feel you can help Jumbo become even mo\n"
          ]
        },
        {
          "output_type": "stream",
          "name": "stderr",
          "text": [
            " 19%|█▉        | 3/16 [03:16<12:43, 58.70s/it]"
          ]
        },
        {
          "output_type": "stream",
          "name": "stdout",
          "text": [
            "Exception in extract_edu_exp_tech_tool() - The server is overloaded or not ready yet.\n",
            "Job description: Overview\n",
            "\n",
            "Are you a passionate Lead Data Scientist with a keen interest in NLP? Are you looking for a challenging and rewarding role where you can app\n"
          ]
        },
        {
          "output_type": "stream",
          "name": "stderr",
          "text": [
            "\r 25%|██▌       | 4/16 [04:08<11:14, 56.19s/it]"
          ]
        },
        {
          "output_type": "stream",
          "name": "stdout",
          "text": [
            "Exception in extract_edu_exp_tech_tool() - The server is overloaded or not ready yet.\n",
            "Job description: What does a Data Scientist at Coolblue do?\n",
            "You work with state-of-the-art methods, the latest technologies, and a mature data infrastructure from many\n"
          ]
        },
        {
          "output_type": "stream",
          "name": "stderr",
          "text": [
            "\r 31%|███▏      | 5/16 [04:53<09:34, 52.21s/it]"
          ]
        },
        {
          "output_type": "stream",
          "name": "stdout",
          "text": [
            "Exception in extract_edu_exp_tech_tool() - That model is currently overloaded with other requests. You can retry your request, or contact us through our help center at help.openai.com if the error persists. (Please include the request ID 73f0cdc023a97aef9463927a7b1578e7 in your message.)\n",
            "Job description: Become a Part of the NIKE, Inc. Team\n",
            "\n",
            "NIKE, Inc. does more than outfit the world’s best athletes. It is a place to explore potential, obliterate bound\n"
          ]
        },
        {
          "output_type": "stream",
          "name": "stderr",
          "text": [
            " 62%|██████▎   | 10/16 [10:03<05:40, 56.80s/it]"
          ]
        },
        {
          "output_type": "stream",
          "name": "stdout",
          "text": [
            "Exception in extract_edu_exp_tech_tool() - The server is overloaded or not ready yet.\n",
            "Job description: Passionate about developing and implementing cutting-edge solutions that can impact the lives of millions of people? Interested in establishing yourse\n"
          ]
        },
        {
          "output_type": "stream",
          "name": "stderr",
          "text": [
            " 75%|███████▌  | 12/16 [12:00<03:51, 57.93s/it]"
          ]
        },
        {
          "output_type": "stream",
          "name": "stdout",
          "text": [
            "Exception in extract_edu_exp_tech_tool() - The server is overloaded or not ready yet.\n",
            "Job description: Machine Learning Engineer\n",
            "\n",
            "Up to €60,000\n",
            "\n",
            "Amsterdam\n",
            "\n",
            "The Company\n",
            "\n",
            "I am working with an exciting Media and Entertainment company in the Netherlands. Th\n"
          ]
        },
        {
          "output_type": "stream",
          "name": "stderr",
          "text": [
            "100%|██████████| 16/16 [16:12<00:00, 60.79s/it]\n"
          ]
        }
      ]
    },
    {
      "cell_type": "code",
      "source": [
        "jobs_processed_df = read_from_file(f\"{folder}{file_name_processed}\")\n",
        "n_rows = jobs_processed_df.shape[0]\n",
        "\n",
        "jobs_processed_df.head(n_rows)"
      ],
      "metadata": {
        "colab": {
          "base_uri": "https://localhost:8080/",
          "height": 423
        },
        "id": "IbqoLfuiKfNU",
        "outputId": "3a7c2c5a-ceb8-48db-8fc1-3a84350934f7"
      },
      "execution_count": 19,
      "outputs": [
        {
          "output_type": "execute_result",
          "data": {
            "text/plain": [
              "                                                 title  \\\n",
              "0                              Graduate Data Scientist   \n",
              "1                               Process Data Scientist   \n",
              "2                                       Data Scientist   \n",
              "3                                       Data Scientist   \n",
              "4                                       Data Scientist   \n",
              "..                                                 ...   \n",
              "154  PhD position: Predicting radiotherapy outcome ...   \n",
              "155  Internship: Computer Science, Robotics, Comput...   \n",
              "156  Data Scientist Artificial Intelligence ervarin...   \n",
              "157  PhD position on Hybrid argumentation using lar...   \n",
              "158                    Machine Learning Data Scientist   \n",
              "\n",
              "                                   company_name                      location  \\\n",
              "0                                       Optiver     Amsterdam, Netherlands      \n",
              "1                              FrieslandCampina    Amersfoort, Netherlands      \n",
              "2                                         felyx     Amsterdam, Netherlands      \n",
              "3                                         Adyen     Amsterdam, Netherlands      \n",
              "4                                      HEINEKEN     Amsterdam, Netherlands      \n",
              "..                                          ...                           ...   \n",
              "154  University Medical Centre Groningen (UMCG)     Groningen, Netherlands      \n",
              "155                                        Lely     Maassluis, Netherlands      \n",
              "156                                 CareerValue    Amersfoort, Netherlands      \n",
              "157             Vrije Universiteit Amsterdam VU     Amsterdam, Netherlands      \n",
              "158                                        OKRA        Leiden, Netherlands      \n",
              "\n",
              "                                           description  \\\n",
              "0    Can you solve this puzzle?\\n\\nAn ant leaves it...   \n",
              "1    • Work with stakeholders (supply chain experts...   \n",
              "2    Company Description\\n\\nWith the intensifying t...   \n",
              "3    This is Adyen\\n\\nAdyen provides payments, data...   \n",
              "4    Data Scientist\\n\\nThe mission of Global Analyt...   \n",
              "..                                                 ...   \n",
              "154  Radiotherapy is an important treatment modalit...   \n",
              "155  Job DescriptionAre you following a degree in C...   \n",
              "156  Voor een toffe consultancy bedrijf die het geb...   \n",
              "157  A 4-year full-time Ph.D. student position is a...   \n",
              "158  Passionate about developing and implementing c...   \n",
              "\n",
              "                                      key_requirements  \n",
              "0    Sure, here is the solution to the puzzle quest...  \n",
              "1    Based on the job description provided, here is...  \n",
              "2    {'EDU': {'masters', 'bachelors'}, 'EXP': {'2+'...  \n",
              "3    {'EDU': {}, 'EXP': {'3+'}, 'TOOL': {'spark', '...  \n",
              "4    {'EDU': {'msc', 'phd'}, 'EXP': {'3-5'}, 'TOOL'...  \n",
              "..                                                 ...  \n",
              "154  {'EDU': {'phd'}, 'EXP': {}, 'TOOL': {'proton t...  \n",
              "155  {'EDU': {'university'}, 'EXP': {}, 'TOOL': {'o...  \n",
              "156  {'EDU': {'bsc', 'master', 'msc'}, 'EXP': {'2-3...  \n",
              "157  {'EDU': {'phd', 'msc', 'computer science', 'ar...  \n",
              "158   Here's the output for the given job description:  \n",
              "\n",
              "[159 rows x 5 columns]"
            ],
            "text/html": [
              "\n",
              "  <div id=\"df-40b7c5be-9f2b-4116-9055-dd5e76fc216c\">\n",
              "    <div class=\"colab-df-container\">\n",
              "      <div>\n",
              "<style scoped>\n",
              "    .dataframe tbody tr th:only-of-type {\n",
              "        vertical-align: middle;\n",
              "    }\n",
              "\n",
              "    .dataframe tbody tr th {\n",
              "        vertical-align: top;\n",
              "    }\n",
              "\n",
              "    .dataframe thead th {\n",
              "        text-align: right;\n",
              "    }\n",
              "</style>\n",
              "<table border=\"1\" class=\"dataframe\">\n",
              "  <thead>\n",
              "    <tr style=\"text-align: right;\">\n",
              "      <th></th>\n",
              "      <th>title</th>\n",
              "      <th>company_name</th>\n",
              "      <th>location</th>\n",
              "      <th>description</th>\n",
              "      <th>key_requirements</th>\n",
              "    </tr>\n",
              "  </thead>\n",
              "  <tbody>\n",
              "    <tr>\n",
              "      <th>0</th>\n",
              "      <td>Graduate Data Scientist</td>\n",
              "      <td>Optiver</td>\n",
              "      <td>Amsterdam, Netherlands</td>\n",
              "      <td>Can you solve this puzzle?\\n\\nAn ant leaves it...</td>\n",
              "      <td>Sure, here is the solution to the puzzle quest...</td>\n",
              "    </tr>\n",
              "    <tr>\n",
              "      <th>1</th>\n",
              "      <td>Process Data Scientist</td>\n",
              "      <td>FrieslandCampina</td>\n",
              "      <td>Amersfoort, Netherlands</td>\n",
              "      <td>• Work with stakeholders (supply chain experts...</td>\n",
              "      <td>Based on the job description provided, here is...</td>\n",
              "    </tr>\n",
              "    <tr>\n",
              "      <th>2</th>\n",
              "      <td>Data Scientist</td>\n",
              "      <td>felyx</td>\n",
              "      <td>Amsterdam, Netherlands</td>\n",
              "      <td>Company Description\\n\\nWith the intensifying t...</td>\n",
              "      <td>{'EDU': {'masters', 'bachelors'}, 'EXP': {'2+'...</td>\n",
              "    </tr>\n",
              "    <tr>\n",
              "      <th>3</th>\n",
              "      <td>Data Scientist</td>\n",
              "      <td>Adyen</td>\n",
              "      <td>Amsterdam, Netherlands</td>\n",
              "      <td>This is Adyen\\n\\nAdyen provides payments, data...</td>\n",
              "      <td>{'EDU': {}, 'EXP': {'3+'}, 'TOOL': {'spark', '...</td>\n",
              "    </tr>\n",
              "    <tr>\n",
              "      <th>4</th>\n",
              "      <td>Data Scientist</td>\n",
              "      <td>HEINEKEN</td>\n",
              "      <td>Amsterdam, Netherlands</td>\n",
              "      <td>Data Scientist\\n\\nThe mission of Global Analyt...</td>\n",
              "      <td>{'EDU': {'msc', 'phd'}, 'EXP': {'3-5'}, 'TOOL'...</td>\n",
              "    </tr>\n",
              "    <tr>\n",
              "      <th>...</th>\n",
              "      <td>...</td>\n",
              "      <td>...</td>\n",
              "      <td>...</td>\n",
              "      <td>...</td>\n",
              "      <td>...</td>\n",
              "    </tr>\n",
              "    <tr>\n",
              "      <th>154</th>\n",
              "      <td>PhD position: Predicting radiotherapy outcome ...</td>\n",
              "      <td>University Medical Centre Groningen (UMCG)</td>\n",
              "      <td>Groningen, Netherlands</td>\n",
              "      <td>Radiotherapy is an important treatment modalit...</td>\n",
              "      <td>{'EDU': {'phd'}, 'EXP': {}, 'TOOL': {'proton t...</td>\n",
              "    </tr>\n",
              "    <tr>\n",
              "      <th>155</th>\n",
              "      <td>Internship: Computer Science, Robotics, Comput...</td>\n",
              "      <td>Lely</td>\n",
              "      <td>Maassluis, Netherlands</td>\n",
              "      <td>Job DescriptionAre you following a degree in C...</td>\n",
              "      <td>{'EDU': {'university'}, 'EXP': {}, 'TOOL': {'o...</td>\n",
              "    </tr>\n",
              "    <tr>\n",
              "      <th>156</th>\n",
              "      <td>Data Scientist Artificial Intelligence ervarin...</td>\n",
              "      <td>CareerValue</td>\n",
              "      <td>Amersfoort, Netherlands</td>\n",
              "      <td>Voor een toffe consultancy bedrijf die het geb...</td>\n",
              "      <td>{'EDU': {'bsc', 'master', 'msc'}, 'EXP': {'2-3...</td>\n",
              "    </tr>\n",
              "    <tr>\n",
              "      <th>157</th>\n",
              "      <td>PhD position on Hybrid argumentation using lar...</td>\n",
              "      <td>Vrije Universiteit Amsterdam VU</td>\n",
              "      <td>Amsterdam, Netherlands</td>\n",
              "      <td>A 4-year full-time Ph.D. student position is a...</td>\n",
              "      <td>{'EDU': {'phd', 'msc', 'computer science', 'ar...</td>\n",
              "    </tr>\n",
              "    <tr>\n",
              "      <th>158</th>\n",
              "      <td>Machine Learning Data Scientist</td>\n",
              "      <td>OKRA</td>\n",
              "      <td>Leiden, Netherlands</td>\n",
              "      <td>Passionate about developing and implementing c...</td>\n",
              "      <td>Here's the output for the given job description:</td>\n",
              "    </tr>\n",
              "  </tbody>\n",
              "</table>\n",
              "<p>159 rows × 5 columns</p>\n",
              "</div>\n",
              "      <button class=\"colab-df-convert\" onclick=\"convertToInteractive('df-40b7c5be-9f2b-4116-9055-dd5e76fc216c')\"\n",
              "              title=\"Convert this dataframe to an interactive table.\"\n",
              "              style=\"display:none;\">\n",
              "        \n",
              "  <svg xmlns=\"http://www.w3.org/2000/svg\" height=\"24px\"viewBox=\"0 0 24 24\"\n",
              "       width=\"24px\">\n",
              "    <path d=\"M0 0h24v24H0V0z\" fill=\"none\"/>\n",
              "    <path d=\"M18.56 5.44l.94 2.06.94-2.06 2.06-.94-2.06-.94-.94-2.06-.94 2.06-2.06.94zm-11 1L8.5 8.5l.94-2.06 2.06-.94-2.06-.94L8.5 2.5l-.94 2.06-2.06.94zm10 10l.94 2.06.94-2.06 2.06-.94-2.06-.94-.94-2.06-.94 2.06-2.06.94z\"/><path d=\"M17.41 7.96l-1.37-1.37c-.4-.4-.92-.59-1.43-.59-.52 0-1.04.2-1.43.59L10.3 9.45l-7.72 7.72c-.78.78-.78 2.05 0 2.83L4 21.41c.39.39.9.59 1.41.59.51 0 1.02-.2 1.41-.59l7.78-7.78 2.81-2.81c.8-.78.8-2.07 0-2.86zM5.41 20L4 18.59l7.72-7.72 1.47 1.35L5.41 20z\"/>\n",
              "  </svg>\n",
              "      </button>\n",
              "      \n",
              "  <style>\n",
              "    .colab-df-container {\n",
              "      display:flex;\n",
              "      flex-wrap:wrap;\n",
              "      gap: 12px;\n",
              "    }\n",
              "\n",
              "    .colab-df-convert {\n",
              "      background-color: #E8F0FE;\n",
              "      border: none;\n",
              "      border-radius: 50%;\n",
              "      cursor: pointer;\n",
              "      display: none;\n",
              "      fill: #1967D2;\n",
              "      height: 32px;\n",
              "      padding: 0 0 0 0;\n",
              "      width: 32px;\n",
              "    }\n",
              "\n",
              "    .colab-df-convert:hover {\n",
              "      background-color: #E2EBFA;\n",
              "      box-shadow: 0px 1px 2px rgba(60, 64, 67, 0.3), 0px 1px 3px 1px rgba(60, 64, 67, 0.15);\n",
              "      fill: #174EA6;\n",
              "    }\n",
              "\n",
              "    [theme=dark] .colab-df-convert {\n",
              "      background-color: #3B4455;\n",
              "      fill: #D2E3FC;\n",
              "    }\n",
              "\n",
              "    [theme=dark] .colab-df-convert:hover {\n",
              "      background-color: #434B5C;\n",
              "      box-shadow: 0px 1px 3px 1px rgba(0, 0, 0, 0.15);\n",
              "      filter: drop-shadow(0px 1px 2px rgba(0, 0, 0, 0.3));\n",
              "      fill: #FFFFFF;\n",
              "    }\n",
              "  </style>\n",
              "\n",
              "      <script>\n",
              "        const buttonEl =\n",
              "          document.querySelector('#df-40b7c5be-9f2b-4116-9055-dd5e76fc216c button.colab-df-convert');\n",
              "        buttonEl.style.display =\n",
              "          google.colab.kernel.accessAllowed ? 'block' : 'none';\n",
              "\n",
              "        async function convertToInteractive(key) {\n",
              "          const element = document.querySelector('#df-40b7c5be-9f2b-4116-9055-dd5e76fc216c');\n",
              "          const dataTable =\n",
              "            await google.colab.kernel.invokeFunction('convertToInteractive',\n",
              "                                                     [key], {});\n",
              "          if (!dataTable) return;\n",
              "\n",
              "          const docLinkHtml = 'Like what you see? Visit the ' +\n",
              "            '<a target=\"_blank\" href=https://colab.research.google.com/notebooks/data_table.ipynb>data table notebook</a>'\n",
              "            + ' to learn more about interactive tables.';\n",
              "          element.innerHTML = '';\n",
              "          dataTable['output_type'] = 'display_data';\n",
              "          await google.colab.output.renderOutput(dataTable, element);\n",
              "          const docLink = document.createElement('div');\n",
              "          docLink.innerHTML = docLinkHtml;\n",
              "          element.appendChild(docLink);\n",
              "        }\n",
              "      </script>\n",
              "    </div>\n",
              "  </div>\n",
              "  "
            ]
          },
          "metadata": {},
          "execution_count": 19
        }
      ]
    }
  ]
}