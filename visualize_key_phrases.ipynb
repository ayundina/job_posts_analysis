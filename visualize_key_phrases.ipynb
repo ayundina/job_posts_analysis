{
  "nbformat": 4,
  "nbformat_minor": 0,
  "metadata": {
    "colab": {
      "provenance": [],
      "authorship_tag": "ABX9TyNyllc/WhEJ9En1F5XVSQC/",
      "include_colab_link": true
    },
    "kernelspec": {
      "name": "python3",
      "display_name": "Python 3"
    },
    "language_info": {
      "name": "python"
    }
  },
  "cells": [
    {
      "cell_type": "markdown",
      "metadata": {
        "id": "view-in-github",
        "colab_type": "text"
      },
      "source": [
        "<a href=\"https://colab.research.google.com/github/ayundina/job_posts_analysis/blob/main/visualize_key_phrases.ipynb\" target=\"_parent\"><img src=\"https://colab.research.google.com/assets/colab-badge.svg\" alt=\"Open In Colab\"/></a>"
      ]
    },
    {
      "cell_type": "code",
      "source": [
        "import ast\n",
        "\n",
        "def str_to_dict(dict_str: str) -> dict:\n",
        "  try:\n",
        "    d = ast.literal_eval(dict_str)\n",
        "  except Exception as e:\n",
        "    print(f\"Exception in string_to_dict - {e}\")\n",
        "    print(f\"dict_str - {dict_str}\")\n",
        "    d = {}\n",
        "  return d"
      ],
      "metadata": {
        "id": "7OdcaU1lYVSU"
      },
      "execution_count": null,
      "outputs": []
    },
    {
      "cell_type": "code",
      "source": [
        "def get_phrases_from_df(df: pd.DataFrame, col: str) -> list:\n",
        "  list_of_str = df[col].tolist()\n",
        "  list_of_dicts = [str_to_dict(key_phrases) for key_phrases in list_of_str]\n",
        "  return list_of_dicts"
      ],
      "metadata": {
        "id": "JQpPZpZPW54W"
      },
      "execution_count": null,
      "outputs": []
    },
    {
      "cell_type": "code",
      "source": [
        "import itertools\n",
        "from collections import Counter, OrderedDict\n",
        "\n",
        "def combine_requirements_by_topic(topic: str, key_requirements: list) -> OrderedDict:\n",
        "  requirements = [req.get(topic) for req in key_requirements if req]\n",
        "  requirements = list(itertools.chain(*requirements))\n",
        "  counted = Counter(requirements)\n",
        "  sorted = OrderedDict(counted.most_common(20))\n",
        "  return sorted"
      ],
      "metadata": {
        "id": "sZzW-aMjYzt7"
      },
      "execution_count": null,
      "outputs": []
    },
    {
      "cell_type": "markdown",
      "source": [
        "#**Let's start here**\n",
        "Turn csv file to pandas data frame "
      ],
      "metadata": {
        "id": "p2FL_GkgbKd0"
      }
    },
    {
      "cell_type": "code",
      "source": [
        "import pandas as pd\n",
        "\n",
        "folder = \"/content/drive/MyDrive/data_science_jobs\"\n",
        "file_to_read = \"/data_science_jobs.csv\"\n",
        "\n",
        "df = df.read_csv(f\"{folder}{file_to_read}\")\n",
        "df.head(2)"
      ],
      "metadata": {
        "id": "LZq1a4bIZzOb"
      },
      "execution_count": null,
      "outputs": []
    },
    {
      "cell_type": "markdown",
      "source": [
        "Convert strings to dictionaries and group key phrases by topic"
      ],
      "metadata": {
        "id": "q02yp3PIbidB"
      }
    },
    {
      "cell_type": "code",
      "source": [
        "import operator\n",
        "from collections import Counter, OrderedDict\n",
        "\n",
        "key_phrases = get_phrases_from_df(df)\n",
        "edu = combine_requirements_by_topic('EDU', key_phrases)\n",
        "exp = combine_requirements_by_topic('EXP', key_phrases)\n",
        "tech = combine_requirements_by_topic('TECH', key_phrases)\n",
        "tool = combine_requirements_by_topic('TOOL', key_phrases)"
      ],
      "metadata": {
        "id": "ryB9GLZmY1Ys"
      },
      "execution_count": null,
      "outputs": []
    },
    {
      "cell_type": "code",
      "source": [
        "import matplotlib.pyplot as plt\n",
        "\n",
        "def set_color(ax: plt.axes, color: str) -> None:\n",
        "  ax.xaxis.label.set_color(color)\n",
        "  ax.tick_params(axis='x', colors=color)\n",
        "  ax.tick_params(axis='y', colors=color)\n",
        "  ax.spines['bottom'].set_color(color)\n",
        "  ax.spines['top'].set_color(color)\n",
        "  ax.spines['right'].set_color(color)\n",
        "  ax.spines['left'].set_color(color)\n",
        "\n",
        "def set_subplt(ax: plt.axes, x: list, y: list, title: str) -> None:\n",
        "  color = 'grey'\n",
        "  bar_color = 'lightgrey'\n",
        "  ax.bar(x, y, color=bar_color)\n",
        "  ax.set_title(title, color=color)\n",
        "  plt.setp(ax.get_xticklabels(), rotation=45, horizontalalignment='right')\n",
        "  set_color(ax, color)"
      ],
      "metadata": {
        "id": "Jdz_iEwLaM8h"
      },
      "execution_count": null,
      "outputs": []
    },
    {
      "cell_type": "markdown",
      "source": [
        "#**Finally! It's time to plot**"
      ],
      "metadata": {
        "id": "G6daeXJtbt6P"
      }
    },
    {
      "cell_type": "code",
      "source": [
        "fig, ((ax1, ax2), (ax3, ax4)) = plt.subplots(2, 2, figsize=(20, 10))\n",
        "\n",
        "set_subplt(ax1, list(edu.keys()), list(edu.values()), \"Education\")\n",
        "set_subplt(ax2, list(exp.keys()), list(exp.values()), \"Experience\")\n",
        "set_subplt(ax3, list(tech.keys()), list(tech.values()), \"Technical Skills\")\n",
        "set_subplt(ax4, list(tool.keys()), list(tool.values()), \"Tools\")\n",
        "\n",
        "plt.tight_layout()\n",
        "plt.show()"
      ],
      "metadata": {
        "id": "KuDFYkMxaa1q"
      },
      "execution_count": null,
      "outputs": []
    }
  ]
}